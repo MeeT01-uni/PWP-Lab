{
 "cells": [
  {
   "cell_type": "code",
   "execution_count": 2,
   "id": "44e4f2a3",
   "metadata": {},
   "outputs": [
    {
     "name": "stdout",
     "output_type": "stream",
     "text": [
      "0    1\n",
      "1    2\n",
      "2    3\n",
      "3    4\n",
      "4    5\n",
      "dtype: int64\n"
     ]
    }
   ],
   "source": [
    "import pandas as pd\n",
    "data = [1, 2, 3, 4, 5]\n",
    "series = pd.Series(data)\n",
    "print(series)"
   ]
  },
  {
   "cell_type": "code",
   "execution_count": 3,
   "id": "533e2699",
   "metadata": {},
   "outputs": [
    {
     "name": "stdout",
     "output_type": "stream",
     "text": [
      "0    11\n",
      "1    12\n",
      "2    13\n",
      "3    14\n",
      "4    15\n",
      "dtype: int64\n",
      "2    3\n",
      "3    4\n",
      "4    5\n",
      "dtype: int64\n",
      "3.0\n"
     ]
    }
   ],
   "source": [
    "# Arithmetic Operations\n",
    "series2 = series + 10\n",
    "print(series2)\n",
    "# Filtering\n",
    "filtered_series = series[series > 2]\n",
    "print(filtered_series)\n",
    "# Statistical Calculations\n",
    "mean_value = series.mean()\n",
    "print(mean_value)"
   ]
  },
  {
   "cell_type": "code",
   "execution_count": 2,
   "id": "c8ea9f8e",
   "metadata": {},
   "outputs": [
    {
     "name": "stdout",
     "output_type": "stream",
     "text": [
      "      Name  Age         City\n",
      "0    Alice   25     New York\n",
      "1      Bob   30  Los Angeles\n",
      "2  Charlie   35      Chicago\n"
     ]
    }
   ],
   "source": [
    "import pandas as pd\n",
    "data = {\n",
    "    'Name': ['Alice', 'Bob', 'Charlie'],\n",
    "    'Age': [25, 30, 35],\n",
    "    'City': ['New York', 'Los Angeles', 'Chicago']\n",
    "}\n",
    "df = pd.DataFrame(data)\n",
    "print(df)"
   ]
  },
  {
   "cell_type": "code",
   "execution_count": 3,
   "id": "11581ff7",
   "metadata": {},
   "outputs": [
    {
     "name": "stdout",
     "output_type": "stream",
     "text": [
      "      Name\n",
      "0    Alice\n",
      "1      Bob\n",
      "2  Charlie\n"
     ]
    }
   ],
   "source": [
    "print(df[['Name']])"
   ]
  },
  {
   "cell_type": "code",
   "execution_count": 8,
   "id": "a3ed0ab8",
   "metadata": {},
   "outputs": [
    {
     "name": "stdout",
     "output_type": "stream",
     "text": [
      "      Name  Age  Salary\n",
      "0    Alice   25   70000\n",
      "1      Bob   30   80000\n",
      "2  Charlie   35   90000\n"
     ]
    }
   ],
   "source": [
    "df['Salary'] = [70000, 80000, 90000]\n",
    "print(df)"
   ]
  },
  {
   "cell_type": "code",
   "execution_count": 10,
   "id": "047298c6",
   "metadata": {},
   "outputs": [
    {
     "name": "stdout",
     "output_type": "stream",
     "text": [
      "      Name  Age  Salary\n",
      "0    Alice   25   70000\n",
      "1      Bob   30   80000\n",
      "2  Charlie   35   90000\n"
     ]
    }
   ],
   "source": [
    "if 'City' in df.columns:\n",
    "\tdf = df.drop('City', axis=1)\n",
    "print(df)"
   ]
  },
  {
   "cell_type": "code",
   "execution_count": 12,
   "id": "80618329",
   "metadata": {},
   "outputs": [
    {
     "name": "stdout",
     "output_type": "stream",
     "text": [
      "    Name  Age  Salary\n",
      "0  Alice   25   70000\n"
     ]
    }
   ],
   "source": [
    "print(df.loc[[0]])"
   ]
  },
  {
   "cell_type": "code",
   "execution_count": 14,
   "id": "510347e9",
   "metadata": {},
   "outputs": [
    {
     "name": "stdout",
     "output_type": "stream",
     "text": [
      "    Name  Age  Salary\n",
      "0  Alice   25   70000\n",
      "1    Bob   30   80000\n"
     ]
    }
   ],
   "source": [
    "print(df.loc[[0, 1]])"
   ]
  },
  {
   "cell_type": "code",
   "execution_count": 15,
   "id": "54a92fcf",
   "metadata": {},
   "outputs": [
    {
     "name": "stdout",
     "output_type": "stream",
     "text": [
      "      calories  duration\n",
      "day1       420        50\n",
      "day2       380        40\n",
      "day3       390        45\n"
     ]
    }
   ],
   "source": [
    "import pandas as pd\n",
    "data = {\n",
    "  \"calories\": [420, 380, 390],\n",
    "  \"duration\": [50, 40, 45]\n",
    "}\n",
    "df = pd.DataFrame(data, index = [\"day1\", \"day2\", \"day3\"])\n",
    "print(df)"
   ]
  },
  {
   "cell_type": "code",
   "execution_count": 18,
   "id": "fcfeb5fb",
   "metadata": {},
   "outputs": [
    {
     "name": "stdout",
     "output_type": "stream",
     "text": [
      "   Name City  Number\n",
      "0     A    M       1\n",
      "1     B    N       4\n",
      "2     C    V       5\n",
      "3     D    B       7\n",
      "4     E    J       8\n",
      "5     F    G       9\n",
      "6     G    F       7\n",
      "7     H    D       5\n",
      "8     I    C       6\n",
      "9     J    X       7\n",
      "10    K    Z       3\n",
      "11    L    S       4\n",
      "12    M    R       6\n"
     ]
    }
   ],
   "source": [
    "dat = pd.read_csv(\"data.csv\")\n",
    "print(dat)"
   ]
  },
  {
   "cell_type": "code",
   "execution_count": null,
   "id": "d70e1628",
   "metadata": {},
   "outputs": [
    {
     "name": "stdout",
     "output_type": "stream",
     "text": [
      "None\n"
     ]
    }
   ],
   "source": [
    "Biodata = {'Name': ['John', 'Emily', 'Mike', 'Lisa'],\n",
    "        'Age': [28, 23, 35, 31],\n",
    "        'Gender': ['M', 'F', 'M', 'F']\n",
    "        }\n",
    "df = pd.DataFrame(Biodata)\n",
    "df.to_csv('Biodata.csv', index=False)"
   ]
  },
  {
   "cell_type": "code",
   "execution_count": 22,
   "id": "e3af1589",
   "metadata": {},
   "outputs": [
    {
     "name": "stdout",
     "output_type": "stream",
     "text": [
      "<class 'pandas.core.frame.DataFrame'>\n",
      "RangeIndex: 13 entries, 0 to 12\n",
      "Data columns (total 3 columns):\n",
      " #   Column  Non-Null Count  Dtype \n",
      "---  ------  --------------  ----- \n",
      " 0   Name    13 non-null     object\n",
      " 1   City    13 non-null     object\n",
      " 2   Number  13 non-null     int64 \n",
      "dtypes: int64(1), object(2)\n",
      "memory usage: 444.0+ bytes\n",
      "None\n",
      "  Name City  Number\n",
      "0    A    M       1\n",
      "1    B    N       4\n",
      "2    C    V       5\n",
      "3    D    B       7\n",
      "4    E    J       8\n",
      "   Name City  Number\n",
      "8     I    C       6\n",
      "9     J    X       7\n",
      "10    K    Z       3\n",
      "11    L    S       4\n",
      "12    M    R       6\n",
      "          Number\n",
      "count  13.000000\n",
      "mean    5.538462\n",
      "std     2.183857\n",
      "min     1.000000\n",
      "25%     4.000000\n",
      "50%     6.000000\n",
      "75%     7.000000\n",
      "max     9.000000\n"
     ]
    }
   ],
   "source": [
    "dat = pd.read_csv(\"data.csv\")\n",
    "print(dat.info())\n",
    "# shows first and last five rows\n",
    "print(dat.head())\n",
    "print(dat.tail())\n",
    "print(dat.describe())"
   ]
  },
  {
   "cell_type": "code",
   "execution_count": 24,
   "id": "bed4b493",
   "metadata": {},
   "outputs": [
    {
     "name": "stdout",
     "output_type": "stream",
     "text": [
      "   Name\n",
      "0     A\n",
      "1     B\n",
      "2     C\n",
      "3     D\n",
      "4     E\n",
      "5     F\n",
      "6     G\n",
      "7     H\n",
      "8     I\n",
      "9     J\n",
      "10    K\n",
      "11    L\n",
      "12    M\n",
      "   Name  Number\n",
      "0     A       1\n",
      "1     B       4\n",
      "2     C       5\n",
      "3     D       7\n",
      "4     E       8\n",
      "5     F       9\n",
      "6     G       7\n",
      "7     H       5\n",
      "8     I       6\n",
      "9     J       7\n",
      "10    K       3\n",
      "11    L       4\n",
      "12    M       6\n",
      "  Name City  Number\n",
      "1    B    N       4\n"
     ]
    }
   ],
   "source": [
    "print(dat[['Name']])\n",
    "print(dat[['Name','Number']])\n",
    "print(dat.loc[[1]])"
   ]
  },
  {
   "cell_type": "code",
   "execution_count": 28,
   "id": "ceec7b78",
   "metadata": {},
   "outputs": [
    {
     "name": "stdout",
     "output_type": "stream",
     "text": [
      "      A          B          C     D           E\n",
      "0   NaN  37.576213  24.830553   1.0   10.000000\n",
      "1   2.0  43.089355   3.281344   2.0   12.915497\n",
      "2   3.0  48.147925  29.105024   3.0   16.681005\n",
      "3   4.0  64.770123  87.007546   4.0   21.544347\n",
      "4   5.0  65.006815  73.043146   5.0   27.825594\n",
      "5   6.0  54.851695   6.175513   6.0   35.938137\n",
      "6   7.0  48.315447  12.518570   7.0   46.415888\n",
      "7   8.0  51.660510  49.618557   8.0   59.948425\n",
      "8   9.0  41.483708  85.024367   9.0   77.426368\n",
      "9  10.0  42.255159  43.445603  10.0  100.000000\n"
     ]
    }
   ],
   "source": [
    "import numpy as np\n",
    "\n",
    "\n",
    "data = {\n",
    "    'A': [np.nan, 2, 3, 4, 5, 6, 7, 8, 9, 10],\n",
    "    'B': np.random.normal(50, 15, 10),\n",
    "    'C': np.random.rand(10) * 100,\n",
    "    'D': np.linspace(1, 10, 10),\n",
    "    'E': np.logspace(1, 2, 10)\n",
    "}\n",
    "df = pd.DataFrame(data)\n",
    "print(df)"
   ]
  },
  {
   "cell_type": "code",
   "execution_count": 29,
   "id": "2794c7f6",
   "metadata": {},
   "outputs": [
    {
     "name": "stdout",
     "output_type": "stream",
     "text": [
      "Addition:\n",
      " 0    11\n",
      "1    22\n",
      "2    33\n",
      "3    44\n",
      "4    55\n",
      "dtype: int64\n",
      "Subtraction:\n",
      " 0     9\n",
      "1    18\n",
      "2    27\n",
      "3    36\n",
      "4    45\n",
      "dtype: int64\n",
      "Multiplication:\n",
      " 0     10\n",
      "1     40\n",
      "2     90\n",
      "3    160\n",
      "4    250\n",
      "dtype: int64\n",
      "Division:\n",
      " 0    10.0\n",
      "1    10.0\n",
      "2    10.0\n",
      "3    10.0\n",
      "4    10.0\n",
      "dtype: float64\n"
     ]
    }
   ],
   "source": [
    "# Create two sample Pandas Series\n",
    "s1 = pd.Series([10, 20, 30, 40, 50])\n",
    "s2 = pd.Series([1, 2, 3, 4, 5])\n",
    "\n",
    "# Addition\n",
    "add_result = s1 + s2\n",
    "print(\"Addition:\\n\", add_result)\n",
    "\n",
    "# Subtraction\n",
    "sub_result = s1 - s2\n",
    "print(\"Subtraction:\\n\", sub_result)\n",
    "\n",
    "# Multiplication\n",
    "mul_result = s1 * s2\n",
    "print(\"Multiplication:\\n\", mul_result)\n",
    "\n",
    "# Division\n",
    "div_result = s1 / s2\n",
    "print(\"Division:\\n\", div_result)"
   ]
  },
  {
   "cell_type": "code",
   "execution_count": 32,
   "id": "be6fc823",
   "metadata": {},
   "outputs": [
    {
     "name": "stdout",
     "output_type": "stream",
     "text": [
      "Series from list:\n",
      " 0    10\n",
      "1    20\n",
      "2    30\n",
      "3    40\n",
      "dtype: int64\n",
      "\n",
      "Series from numpy array:\n",
      " 0     5\n",
      "1    15\n",
      "2    25\n",
      "3    35\n",
      "dtype: int64\n",
      "\n",
      "Series from dict:\n",
      " a    100\n",
      "b    200\n",
      "c    300\n",
      "dtype: int64\n"
     ]
    }
   ],
   "source": [
    "import numpy as np\n",
    "\n",
    "# Create a Pandas Series from a list\n",
    "list_data = [10, 20, 30, 40]\n",
    "series_from_list = pd.Series(list_data)\n",
    "print(\"Series from list:\\n\", series_from_list)\n",
    "\n",
    "# Create a Pandas Series from a numpy array\n",
    "array_data = np.array([5, 15, 25, 35])\n",
    "series_from_array = pd.Series(array_data)\n",
    "print(\"\\nSeries from numpy array:\\n\", series_from_array)\n",
    "\n",
    "# Create a Pandas Series from a dictionary\n",
    "dict_data = {'a': 100, 'b': 200, 'c': 300}\n",
    "series_from_dict = pd.Series(dict_data)\n",
    "print(\"\\nSeries from dict:\\n\", series_from_dict)"
   ]
  },
  {
   "cell_type": "code",
   "execution_count": 33,
   "id": "e24c18ad",
   "metadata": {},
   "outputs": [
    {
     "name": "stdout",
     "output_type": "stream",
     "text": [
      "Vertical Stack:\n",
      " 0    10\n",
      "1    20\n",
      "2    30\n",
      "3    40\n",
      "4    50\n",
      "0     1\n",
      "1     2\n",
      "2     3\n",
      "3     4\n",
      "4     5\n",
      "dtype: int64\n",
      "\n",
      "Horizontal Stack:\n",
      "    s1  s2\n",
      "0  10   1\n",
      "1  20   2\n",
      "2  30   3\n",
      "3  40   4\n",
      "4  50   5\n"
     ]
    }
   ],
   "source": [
    "# Stack two series vertically (concatenate)\n",
    "vertical_stack = pd.concat([s1, s2], axis=0)\n",
    "print(\"Vertical Stack:\\n\", vertical_stack)\n",
    "\n",
    "# Stack two series horizontally (as columns in a DataFrame)\n",
    "horizontal_stack = pd.concat([s1, s2], axis=1)\n",
    "horizontal_stack.columns = ['s1', 's2']\n",
    "print(\"\\nHorizontal Stack:\\n\", horizontal_stack)"
   ]
  },
  {
   "cell_type": "code",
   "execution_count": 31,
   "id": "9f0cc203",
   "metadata": {},
   "outputs": [
    {
     "name": "stdout",
     "output_type": "stream",
     "text": [
      "Name      [John, Emily, Mike, Lisa]\n",
      "Age                [28, 23, 35, 31]\n",
      "Gender                 [M, F, M, F]\n",
      "dtype: object\n"
     ]
    }
   ],
   "source": [
    "biodata_series = pd.Series(Biodata)\n",
    "print(biodata_series)"
   ]
  }
 ],
 "metadata": {
  "kernelspec": {
   "display_name": "Python 3",
   "language": "python",
   "name": "python3"
  },
  "language_info": {
   "codemirror_mode": {
    "name": "ipython",
    "version": 3
   },
   "file_extension": ".py",
   "mimetype": "text/x-python",
   "name": "python",
   "nbconvert_exporter": "python",
   "pygments_lexer": "ipython3",
   "version": "3.12.10"
  }
 },
 "nbformat": 4,
 "nbformat_minor": 5
}
