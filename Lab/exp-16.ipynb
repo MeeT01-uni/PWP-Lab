{
 "cells": [
  {
   "cell_type": "code",
   "execution_count": 4,
   "id": "1c939322",
   "metadata": {},
   "outputs": [],
   "source": [
    "from kivy.app import App\n",
    "from kivy.uix.button import Button\n",
    "from kivy.uix.label import Label\n",
    "from kivy.uix.boxlayout import BoxLayout\n",
    "\n",
    "# Defining the main application class\n",
    "class SimpleApp(App):\n",
    "    def build(self):\n",
    "        # Creating a layout\n",
    "        layout = BoxLayout(orientation='vertical')\n",
    "        \n",
    "        # Creating a label and adding it to the layout\n",
    "        self.label = Label(text=\"Hello, ICT Department\")\n",
    "        layout.add_widget(self.label)\n",
    "        \n",
    "        # Creating a button, binding it to the on_button_press function, and adding it to the layout\n",
    "        button = Button(text=\"Click Me!\")\n",
    "        button.bind(on_press=self.on_button_press)\n",
    "        layout.add_widget(button)\n",
    "        \n",
    "        # Returning the layout to be displayed\n",
    "        return layout\n",
    "    \n",
    "    # Function to handle button click event\n",
    "    def on_button_press(self, instance):\n",
    "        self.label.text = \"Button Clicked!\"\n",
    "\n",
    "# Running the application\n",
    "# The following code is commented out because Kivy's event loop cannot run inside Jupyter Notebook.\n",
    "# if __name__ == '__main__':\n",
    "#     SimpleApp().run()"
   ]
  }
 ],
 "metadata": {
  "kernelspec": {
   "display_name": "Python 3",
   "language": "python",
   "name": "python3"
  },
  "language_info": {
   "codemirror_mode": {
    "name": "ipython",
    "version": 3
   },
   "file_extension": ".py",
   "mimetype": "text/x-python",
   "name": "python",
   "nbconvert_exporter": "python",
   "pygments_lexer": "ipython3",
   "version": "3.12.10"
  }
 },
 "nbformat": 4,
 "nbformat_minor": 5
}
