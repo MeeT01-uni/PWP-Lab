{
 "cells": [
  {
   "cell_type": "code",
   "execution_count": 2,
   "id": "c781354f",
   "metadata": {},
   "outputs": [
    {
     "name": "stdout",
     "output_type": "stream",
     "text": [
      "x is greter than 5\n"
     ]
    }
   ],
   "source": [
    "x = 10\n",
    "if x>5:\n",
    "    print(\"x is greter than 5\")"
   ]
  },
  {
   "cell_type": "code",
   "execution_count": 4,
   "id": "76c07ffd",
   "metadata": {},
   "outputs": [
    {
     "name": "stdout",
     "output_type": "stream",
     "text": [
      "x is greater than 5\n"
     ]
    }
   ],
   "source": [
    "x = 10\n",
    "if  x>5:\n",
    "    print(\"x is greater than 5\")\n",
    "elif x ==5:\n",
    "   print(\"x is equal to 5\")\n",
    "else:\n",
    "   print(\"x is less than 5\")"
   ]
  },
  {
   "cell_type": "code",
   "execution_count": 7,
   "id": "17beeb6b",
   "metadata": {},
   "outputs": [
    {
     "name": "stdout",
     "output_type": "stream",
     "text": [
      "x is greater than 5\n"
     ]
    }
   ],
   "source": [
    "if x>5:\n",
    "   print(\"x is greater than 5\")\n",
    "else:\n",
    "   print(\"x is not greater than 5\")"
   ]
  },
  {
   "cell_type": "code",
   "execution_count": 9,
   "id": "6db885ec",
   "metadata": {},
   "outputs": [
    {
     "name": "stdout",
     "output_type": "stream",
     "text": [
      "You are an adult.\n"
     ]
    }
   ],
   "source": [
    "age = 35\n",
    "\n",
    "if age >= 60:\n",
    "    print(\"You are a senior citizen.\")\n",
    "else:\n",
    "    if age >= 18:\n",
    "        print(\"You are an adult.\")\n",
    "    else:\n",
    "        print(\"You are a teenager.\")"
   ]
  },
  {
   "cell_type": "code",
   "execution_count": 11,
   "id": "ffea837c",
   "metadata": {},
   "outputs": [
    {
     "name": "stdout",
     "output_type": "stream",
     "text": [
      "The number is positive and even.\n"
     ]
    }
   ],
   "source": [
    "num = 10\n",
    "\n",
    "if num > 0:\n",
    "    if num % 2 == 0:\n",
    "        print(\"The number is positive and even.\")\n",
    "    else:\n",
    "        print(\"The number is positive but odd.\")\n",
    "else:\n",
    "    print(\"The number is not positive.\")\n",
    "    "
   ]
  },
  {
   "cell_type": "code",
   "execution_count": 14,
   "id": "f5895834",
   "metadata": {},
   "outputs": [
    {
     "name": "stdout",
     "output_type": "stream",
     "text": [
      "apple\n",
      "banana\n",
      "cherry\n"
     ]
    }
   ],
   "source": [
    "Fruits = [\"apple\", \"banana\", \"cherry\"]\n",
    "for fruit in Fruits:\n",
    "      print(fruit)"
   ]
  },
  {
   "cell_type": "code",
   "execution_count": 15,
   "id": "b95c232d",
   "metadata": {},
   "outputs": [
    {
     "name": "stdout",
     "output_type": "stream",
     "text": [
      "1\n",
      "2\n",
      "3\n",
      "4\n",
      "5\n"
     ]
    }
   ],
   "source": [
    "x = 1\n",
    "while x<=5:\n",
    "     print(x)\n",
    "     x+=1"
   ]
  },
  {
   "cell_type": "code",
   "execution_count": 17,
   "id": "f8c0ca4c",
   "metadata": {},
   "outputs": [
    {
     "name": "stdout",
     "output_type": "stream",
     "text": [
      "3\n"
     ]
    }
   ],
   "source": [
    "for x in range(1,6):\n",
    "\tif x==3:\n",
    "\t    break \n",
    "print(x)"
   ]
  },
  {
   "cell_type": "code",
   "execution_count": 18,
   "id": "0c6439f4",
   "metadata": {},
   "outputs": [
    {
     "name": "stdout",
     "output_type": "stream",
     "text": [
      "5\n"
     ]
    }
   ],
   "source": [
    "for x in range(1,6):\n",
    "\tif x==3:\n",
    "\t    continue \n",
    "print(x)"
   ]
  },
  {
   "cell_type": "code",
   "execution_count": 20,
   "id": "367d5024",
   "metadata": {},
   "outputs": [
    {
     "name": "stdout",
     "output_type": "stream",
     "text": [
      "1\n",
      "2\n",
      "3\n",
      "4\n",
      "5\n"
     ]
    }
   ],
   "source": [
    "for x in range(1,6):\n",
    "    if x == 3:\n",
    "        pass\n",
    "    print(x)"
   ]
  },
  {
   "cell_type": "code",
   "execution_count": 22,
   "id": "2ebac03f",
   "metadata": {},
   "outputs": [
    {
     "name": "stdout",
     "output_type": "stream",
     "text": [
      "Division by zero is not allowed.\n"
     ]
    }
   ],
   "source": [
    "try:\n",
    "  number = int(input(\"Enter a number: \"))\n",
    "  result = 10 / number\n",
    "  print(\"The result is:\", result)\n",
    "except ZeroDivisionError:\n",
    "  print(\"Division by zero is not allowed.\")\n",
    "except ValueError:\n",
    "  print(\"Invalid input. Please enter a valid number.\")"
   ]
  },
  {
   "cell_type": "code",
   "execution_count": 23,
   "id": "301b4cf3",
   "metadata": {},
   "outputs": [
    {
     "name": "stdout",
     "output_type": "stream",
     "text": [
      "5\n"
     ]
    }
   ],
   "source": [
    "my_list = [1, 2, 3, 4, 5]\n",
    "print(len(my_list))"
   ]
  },
  {
   "cell_type": "code",
   "execution_count": 24,
   "id": "5baaf601",
   "metadata": {},
   "outputs": [
    {
     "name": "stdout",
     "output_type": "stream",
     "text": [
      "8\n"
     ]
    }
   ],
   "source": [
    "def add_numbers(a, b):\n",
    "    return a + b\n",
    "result = add_numbers(3, 5)\n",
    "print(result)"
   ]
  },
  {
   "cell_type": "code",
   "execution_count": 25,
   "id": "bd860d57",
   "metadata": {},
   "outputs": [
    {
     "name": "stdout",
     "output_type": "stream",
     "text": [
      "8\n"
     ]
    }
   ],
   "source": [
    "add = lambda x, y: x + y\n",
    "print(add(3, 5))"
   ]
  },
  {
   "cell_type": "code",
   "execution_count": 26,
   "id": "4f9e35b2",
   "metadata": {},
   "outputs": [
    {
     "name": "stdout",
     "output_type": "stream",
     "text": [
      "120\n"
     ]
    }
   ],
   "source": [
    "def factorial(n):\n",
    "\n",
    "    if n == 1:\n",
    "        return 1\n",
    "    else:\n",
    "        return n * factorial(n - 1)\n",
    "print(factorial(5)) "
   ]
  },
  {
   "cell_type": "code",
   "execution_count": 27,
   "id": "fb3cb5d3",
   "metadata": {},
   "outputs": [
    {
     "name": "stdout",
     "output_type": "stream",
     "text": [
      "[1, 4, 9, 16, 25]\n"
     ]
    }
   ],
   "source": [
    "def square(x):\n",
    "    return x * x\n",
    "numbers = [1, 2, 3, 4, 5]\n",
    "squared_numbers = list(map(square, numbers))\n",
    "print(squared_numbers)"
   ]
  },
  {
   "cell_type": "code",
   "execution_count": 29,
   "id": "cf2f888d",
   "metadata": {},
   "outputs": [
    {
     "name": "stdout",
     "output_type": "stream",
     "text": [
      "1\n",
      "2\n",
      "3\n",
      "4\n",
      "5\n"
     ]
    }
   ],
   "source": [
    "def generate_numbers():\n",
    "    for i in range(1, 6):\n",
    "        yield i\n",
    "for number in generate_numbers():\n",
    "    print(number)"
   ]
  },
  {
   "cell_type": "code",
   "execution_count": 34,
   "id": "204f4a70",
   "metadata": {},
   "outputs": [
    {
     "name": "stdout",
     "output_type": "stream",
     "text": [
      "1 3 5 7 9 11 13 15 17 19 21 23 25 27 29 31 33 35 37 39 41 43 45 47 49 51 53 55 57 59 61 63 65 67 69 71 73 75 77 79 81 83 85 87 89 91 93 95 97 99 "
     ]
    }
   ],
   "source": [
    "#Write a Python program to print all odd numbers between 1 to 100 using a while loop\n",
    "x = 1\n",
    "while x <= 100:\n",
    "    if x % 2 != 0:\n",
    "        print(x, end=\" \") \n",
    "    x += 1"
   ]
  },
  {
   "cell_type": "code",
   "execution_count": 36,
   "id": "16082104",
   "metadata": {},
   "outputs": [
    {
     "name": "stdout",
     "output_type": "stream",
     "text": [
      "The sum of natural numbers between 1 and 10 is: 55\n"
     ]
    }
   ],
   "source": [
    "\n",
    "n = 10  \n",
    "sum_natural_numbers = sum(range(1, n + 1))\n",
    "print(\"The sum of natural numbers between 1 and\", n, \"is:\", sum_natural_numbers)"
   ]
  },
  {
   "cell_type": "code",
   "execution_count": 39,
   "id": "f77cfc3b",
   "metadata": {},
   "outputs": [
    {
     "name": "stdout",
     "output_type": "stream",
     "text": [
      "Number of digits in 12345 is: 5\n"
     ]
    }
   ],
   "source": [
    "\n",
    "def count_digits(number):\n",
    "    count = 0\n",
    "    while number > 0:\n",
    "        number //= 10\n",
    "        count += 1\n",
    "    return count\n",
    "number = 12345\n",
    "digit_count = count_digits(number)\n",
    "print(\"Number of digits in\", number, \"is:\", digit_count)\n"
   ]
  },
  {
   "cell_type": "code",
   "execution_count": 41,
   "id": "01845b6b",
   "metadata": {},
   "outputs": [
    {
     "name": "stdout",
     "output_type": "stream",
     "text": [
      "First digit: 1\n",
      "Last digit: 5\n"
     ]
    }
   ],
   "source": [
    "\n",
    "def first_and_last_digit(number):\n",
    "    str_num = str(number)\n",
    "    first_digit = str_num[0]\n",
    "    last_digit = str_num[-1]\n",
    "    return first_digit, last_digit\n",
    "number = 12345\n",
    "first_digit, last_digit = first_and_last_digit(number)\n",
    "print(\"First digit:\", first_digit)  \n",
    "print(\"Last digit:\", last_digit)\n"
   ]
  },
  {
   "cell_type": "code",
   "execution_count": 43,
   "id": "fd8a8d65",
   "metadata": {},
   "outputs": [
    {
     "name": "stdout",
     "output_type": "stream",
     "text": [
      "Swapped number: 52341\n"
     ]
    }
   ],
   "source": [
    "\n",
    "def swap_first_last_digits(number):\n",
    "    str_num = str(number)\n",
    "    if len(str_num) <= 1:\n",
    "        return number  \n",
    "    swapped_num = str_num[-1] + str_num[1:-1] + str_num[0]\n",
    "    return int(swapped_num)\n",
    "number = 12345\n",
    "swapped_number = swap_first_last_digits(number)\n",
    "print(\"Swapped number:\", swapped_number)  \n"
   ]
  },
  {
   "cell_type": "code",
   "execution_count": 45,
   "id": "1d943342",
   "metadata": {},
   "outputs": [
    {
     "name": "stdout",
     "output_type": "stream",
     "text": [
      "Product of digits in 12345 is: 120\n"
     ]
    }
   ],
   "source": [
    "\n",
    "def product_of_digits(number):\n",
    "    product = 1\n",
    "    while number > 0:\n",
    "        digit = number % 10\n",
    "        product *= digit\n",
    "        number //= 10\n",
    "    return product\n",
    "number = 12345\n",
    "product = product_of_digits(number)\n",
    "print(\"Product of digits in\", number, \"is:\", product)"
   ]
  },
  {
   "cell_type": "code",
   "execution_count": 46,
   "id": "85d036d2",
   "metadata": {},
   "outputs": [
    {
     "name": "stdout",
     "output_type": "stream",
     "text": [
      "Reversed number: 321\n"
     ]
    }
   ],
   "source": [
    "#Write a Python program to enter a number and print its reverse\n",
    "def reverse_number(number):\n",
    "    reversed_num = 0\n",
    "    while number > 0:\n",
    "        digit = number % 10\n",
    "        reversed_num = reversed_num * 10 + digit\n",
    "        number //= 10\n",
    "    return reversed_num\n",
    "number = int(input(\"Enter a number: \"))\n",
    "reversed_num = reverse_number(number)\n",
    "print(\"Reversed number:\", reversed_num)\n"
   ]
  }
 ],
 "metadata": {
  "kernelspec": {
   "display_name": "Python 3",
   "language": "python",
   "name": "python3"
  },
  "language_info": {
   "codemirror_mode": {
    "name": "ipython",
    "version": 3
   },
   "file_extension": ".py",
   "mimetype": "text/x-python",
   "name": "python",
   "nbconvert_exporter": "python",
   "pygments_lexer": "ipython3",
   "version": "3.12.10"
  }
 },
 "nbformat": 4,
 "nbformat_minor": 5
}
