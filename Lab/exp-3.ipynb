{
 "cells": [
  {
   "cell_type": "code",
   "execution_count": 3,
   "id": "d2a08d6e",
   "metadata": {},
   "outputs": [
    {
     "name": "stdout",
     "output_type": "stream",
     "text": [
      "ICT Department\n",
      " ICT Department \n",
      "----------------------------------------\n",
      "Enroll : 92510133027, Name : Meet\n",
      "----------------------------------------\n"
     ]
    }
   ],
   "source": [
    "# create a string using double quotes\n",
    "string1 = \"ICT Department\"\n",
    "print(string1)\n",
    "# create a string using single quotes\n",
    "string1 = ' ICT Department '\n",
    "print(string1)\n",
    "print(\"----------------------------------------\")\n",
    "print(\"Enroll : 92510133027, Name : Meet\")\n",
    "print(\"----------------------------------------\")"
   ]
  },
  {
   "cell_type": "code",
   "execution_count": 4,
   "id": "d741e02b",
   "metadata": {},
   "outputs": [
    {
     "name": "stdout",
     "output_type": "stream",
     "text": [
      "E\n",
      "----------------------------------------\n",
      "Enroll : 92510133027, Name : Meet\n",
      "----------------------------------------\n"
     ]
    }
   ],
   "source": [
    "string2 = '3EK1'\n",
    "# access 1st index element\n",
    "print(string2 [1])\n",
    "print(\"----------------------------------------\")\n",
    "print(\"Enroll : 92510133027, Name : Meet\")\n",
    "print(\"----------------------------------------\")"
   ]
  },
  {
   "cell_type": "code",
   "execution_count": 5,
   "id": "fd8dc3eb",
   "metadata": {},
   "outputs": [
    {
     "name": "stdout",
     "output_type": "stream",
     "text": [
      "m\n",
      "----------------------------------------\n",
      "Enroll : 92510133027, Name : Meet\n",
      "----------------------------------------\n"
     ]
    }
   ],
   "source": [
    "string3 = 'ICT Department'\n",
    "# access 4th last element\n",
    "print(string3 [-4]) \n",
    "print(\"----------------------------------------\")\n",
    "print(\"Enroll : 92510133027, Name : Meet\")\n",
    "print(\"----------------------------------------\")"
   ]
  },
  {
   "cell_type": "code",
   "execution_count": 7,
   "id": "d923877d",
   "metadata": {},
   "outputs": [
    {
     "name": "stdout",
     "output_type": "stream",
     "text": [
      "CT \n",
      "----------------------------------------\n",
      "Enroll : 92510133027, Name : Meet\n",
      "----------------------------------------\n"
     ]
    }
   ],
   "source": [
    "string4 = 'ICT Department'\n",
    "# access character from 1st index to 3rd index\n",
    "print(string4[1:4])\n",
    "print(\"----------------------------------------\")\n",
    "print(\"Enroll : 92510133027, Name : Meet\")\n",
    "print(\"----------------------------------------\")"
   ]
  },
  {
   "cell_type": "code",
   "execution_count": 9,
   "id": "e68bf8a5",
   "metadata": {},
   "outputs": [
    {
     "name": "stdout",
     "output_type": "stream",
     "text": [
      "IC\n",
      "T Department\n",
      "----------------------------------------\n",
      "Enroll : 92510133027, Name : Meet\n",
      "----------------------------------------\n"
     ]
    }
   ],
   "source": [
    "print(string4[:2])\n",
    "print(string4[2:])\n",
    "print(\"----------------------------------------\")\n",
    "print(\"Enroll : 92510133027, Name : Meet\")\n",
    "print(\"----------------------------------------\")"
   ]
  },
  {
   "cell_type": "code",
   "execution_count": 12,
   "id": "331bdd23",
   "metadata": {},
   "outputs": [
    {
     "name": "stdout",
     "output_type": "stream",
     "text": [
      "HCT Department\n",
      "----------------------------------------\n",
      "Enroll : 92510133027, Name : Meet\n",
      "----------------------------------------\n"
     ]
    }
   ],
   "source": [
    "message = 'ICT Department'\n",
    "# Strings are immutable, so create a new string with the desired change\n",
    "message = 'H' + message[1:]\n",
    "print(message)\n",
    "print(\"----------------------------------------\")\n",
    "print(\"Enroll : 92510133027, Name : Meet\")\n",
    "print(\"----------------------------------------\")"
   ]
  },
  {
   "cell_type": "code",
   "execution_count": 14,
   "id": "19e2f968",
   "metadata": {},
   "outputs": [
    {
     "name": "stdout",
     "output_type": "stream",
     "text": [
      "\n",
      "ICT\n",
      "Department\n",
      "3EK1\n",
      "\n"
     ]
    }
   ],
   "source": [
    "# multiline string \n",
    "message = \"\"\"\n",
    "ICT\n",
    "Department\n",
    "3EK1\n",
    "\"\"\"\n",
    "print(message)"
   ]
  },
  {
   "cell_type": "code",
   "execution_count": 16,
   "id": "493d65a6",
   "metadata": {},
   "outputs": [
    {
     "name": "stdout",
     "output_type": "stream",
     "text": [
      "False\n",
      "False\n",
      "----------------------------------------\n",
      "Enroll : 92510133027, Name : Meet\n",
      "----------------------------------------\n"
     ]
    }
   ],
   "source": [
    "str1 = \"ICT\"\n",
    "str2 = \"Department\"\n",
    "str3 = \"3EK1\"\n",
    "# compare str1 and str2\n",
    "print(str1 == str2)\n",
    "# compare str1 and str3\n",
    "print(str1 == str3)\n",
    "print(\"----------------------------------------\")\n",
    "print(\"Enroll : 92510133027, Name : Meet\")\n",
    "print(\"----------------------------------------\")"
   ]
  },
  {
   "cell_type": "code",
   "execution_count": 17,
   "id": "7658135b",
   "metadata": {},
   "outputs": [
    {
     "name": "stdout",
     "output_type": "stream",
     "text": [
      "ICTDepartment\n",
      "----------------------------------------\n",
      "Enroll : 92510133027, Name : Meet\n",
      "----------------------------------------\n"
     ]
    }
   ],
   "source": [
    "greet = \"ICT\"\n",
    "name = \"Department\"\n",
    "# using + operator\n",
    "result = greet + name\n",
    "print(result)\n",
    "print(\"----------------------------------------\")\n",
    "print(\"Enroll : 92510133027, Name : Meet\")\n",
    "print(\"----------------------------------------\")"
   ]
  },
  {
   "cell_type": "code",
   "execution_count": 19,
   "id": "5d282f95",
   "metadata": {},
   "outputs": [
    {
     "name": "stdout",
     "output_type": "stream",
     "text": [
      "3\n",
      "----------------------------------------\n",
      "Enroll : 92510133027, Name : Meet\n",
      "----------------------------------------\n"
     ]
    }
   ],
   "source": [
    "greet = 'ICT'\n",
    "# count length of greet string\n",
    "print(len(greet))\n",
    "print(\"----------------------------------------\")\n",
    "print(\"Enroll : 92510133027, Name : Meet\")\n",
    "print(\"----------------------------------------\")"
   ]
  },
  {
   "cell_type": "code",
   "execution_count": 22,
   "id": "e78dd3ad",
   "metadata": {},
   "outputs": [
    {
     "name": "stdout",
     "output_type": "stream",
     "text": [
      "PYTHON IS FUN\n",
      "----------------------------------------\n",
      "Enroll : 92510133027, Name : Meet\n",
      "----------------------------------------\n"
     ]
    }
   ],
   "source": [
    "message = 'python is fun'\n",
    "# convert message to uppercase\n",
    "print(message.upper())\n",
    "print(\"----------------------------------------\")\n",
    "print(\"Enroll : 92510133027, Name : Meet\")\n",
    "print(\"----------------------------------------\")"
   ]
  },
  {
   "cell_type": "code",
   "execution_count": 24,
   "id": "6cad2687",
   "metadata": {},
   "outputs": [
    {
     "name": "stdout",
     "output_type": "stream",
     "text": [
      "python is fun\n",
      "----------------------------------------\n",
      "Enroll : 92510133027, Name : Meet\n",
      "----------------------------------------\n"
     ]
    }
   ],
   "source": [
    "message = 'PYTHON IS FUN'\n",
    "# convert message to lowercase\n",
    "print(message.lower())\n",
    "print(\"----------------------------------------\")\n",
    "print(\"Enroll : 92510133027, Name : Meet\")\n",
    "print(\"----------------------------------------\")"
   ]
  },
  {
   "cell_type": "code",
   "execution_count": null,
   "id": "bff1df01",
   "metadata": {},
   "outputs": [
    {
     "name": "stdout",
     "output_type": "stream",
     "text": [
      "ICT Department\n",
      "----------------------------------------\n",
      "Enroll : 92510133027, Name : Meet\n",
      "----------------------------------------\n"
     ]
    }
   ],
   "source": [
    "text = 'CE Department'\n",
    "replaced_text = text.replace('CE', 'ICT')\n",
    "print(replaced_text)\n",
    "print(\"----------------------------------------\")\n",
    "print(\"Enroll : 92510133027, Name : Meet\")\n",
    "print(\"----------------------------------------\")"
   ]
  },
  {
   "cell_type": "code",
   "execution_count": 28,
   "id": "5a1cbfa6",
   "metadata": {},
   "outputs": [
    {
     "name": "stdout",
     "output_type": "stream",
     "text": [
      "12\n",
      "----------------------------------------\n",
      "Enroll : 92510133027, Name : Meet\n",
      "----------------------------------------\n"
     ]
    }
   ],
   "source": [
    "message = 'Python is a fun programming language'\n",
    "# check the index of 'fun'\n",
    "print(message.find('fun'))\n",
    "print(\"----------------------------------------\")\n",
    "print(\"Enroll : 92510133027, Name : Meet\")\n",
    "print(\"----------------------------------------\")"
   ]
  },
  {
   "cell_type": "code",
   "execution_count": 30,
   "id": "0dd095c2",
   "metadata": {},
   "outputs": [
    {
     "name": "stdout",
     "output_type": "stream",
     "text": [
      "Python Programming\n",
      "----------------------------------------\n",
      "Enroll : 92510133027, Name : Meet\n",
      "----------------------------------------\n"
     ]
    }
   ],
   "source": [
    "title = 'Python Programming   '\n",
    "result = title.rstrip()\n",
    "print(result)\n",
    "print(\"----------------------------------------\")\n",
    "print(\"Enroll : 92510133027, Name : Meet\")\n",
    "print(\"----------------------------------------\")"
   ]
  },
  {
   "cell_type": "code",
   "execution_count": 32,
   "id": "1a73a755",
   "metadata": {},
   "outputs": [
    {
     "name": "stdout",
     "output_type": "stream",
     "text": [
      "['Python', 'is', 'fun']\n",
      "----------------------------------------\n",
      "Enroll : 92510133027, Name : Meet\n",
      "----------------------------------------\n"
     ]
    }
   ],
   "source": [
    "text = 'Python is fun'\n",
    "# split the text from space\n",
    "print(text.split())\n",
    "print(\"----------------------------------------\")\n",
    "print(\"Enroll : 92510133027, Name : Meet\")\n",
    "print(\"----------------------------------------\")"
   ]
  },
  {
   "cell_type": "code",
   "execution_count": 34,
   "id": "5a34dc49",
   "metadata": {},
   "outputs": [
    {
     "name": "stdout",
     "output_type": "stream",
     "text": [
      "True\n",
      "----------------------------------------\n",
      "Enroll : 92510133027, Name : Meet\n",
      "----------------------------------------\n"
     ]
    }
   ],
   "source": [
    "message = 'Python is fun'\n",
    "# check if the message starts with Python\n",
    "print(message.startswith('Python'))\n",
    "print(\"----------------------------------------\")\n",
    "print(\"Enroll : 92510133027, Name : Meet\")\n",
    "print(\"----------------------------------------\")"
   ]
  },
  {
   "cell_type": "code",
   "execution_count": 36,
   "id": "ad36fbf7",
   "metadata": {},
   "outputs": [
    {
     "name": "stdout",
     "output_type": "stream",
     "text": [
      "True\n",
      "----------------------------------------\n",
      "Enroll : 92510133027, Name : Meet\n",
      "----------------------------------------\n"
     ]
    }
   ],
   "source": [
    "pin = \"523\"\n",
    "# checks if every character of pin is numeric \n",
    "print(pin.isnumeric())\n",
    "print(\"----------------------------------------\")\n",
    "print(\"Enroll : 92510133027, Name : Meet\")\n",
    "print(\"----------------------------------------\")"
   ]
  },
  {
   "cell_type": "code",
   "execution_count": 37,
   "id": "0e4a7c8e",
   "metadata": {},
   "outputs": [
    {
     "name": "stdout",
     "output_type": "stream",
     "text": [
      "7\n"
     ]
    }
   ],
   "source": [
    "text = 'Python is fun'\n",
    "# find the index of is\n",
    "result = text.index('is')\n",
    "print(result)"
   ]
  },
  {
   "cell_type": "code",
   "execution_count": 39,
   "id": "5263c206",
   "metadata": {},
   "outputs": [
    {
     "name": "stdout",
     "output_type": "stream",
     "text": [
      "Cathy is from UK\n"
     ]
    }
   ],
   "source": [
    "name = 'Cathy'\n",
    "country = 'UK'\n",
    "print(f'{name} is from {country}')\n"
   ]
  },
  {
   "cell_type": "code",
   "execution_count": 41,
   "id": "48527f8f",
   "metadata": {},
   "outputs": [
    {
     "name": "stdout",
     "output_type": "stream",
     "text": [
      "This is a \n",
      " normal string example\n",
      "This is a \\n raw string example\n"
     ]
    }
   ],
   "source": [
    "str = \"This is a \\n normal string example\" \n",
    "print(str) \n",
    "raw_str = r\"This is a \\n raw string example\" \n",
    "print(raw_str)"
   ]
  },
  {
   "cell_type": "code",
   "execution_count": 43,
   "id": "a7f168a0",
   "metadata": {},
   "outputs": [
    {
     "name": "stdout",
     "output_type": "stream",
     "text": [
      "!dlroW ,olleH\n",
      "----------------------------------------\n",
      "Enroll : 92510133027, Name : Meet\n",
      "----------------------------------------\n"
     ]
    }
   ],
   "source": [
    "#Write a Python program to reverse a string.\n",
    "def reverse_string(s):\n",
    "    return s[::-1]\n",
    "\n",
    "# Example usage\n",
    "input_string = \"Hello, World!\"\n",
    "\n",
    "reversed_string = reverse_string(input_string)\n",
    "\n",
    "print(reversed_string)\n",
    "print(\"----------------------------------------\")\n",
    "print(\"Enroll : 92510133027, Name : Meet\")\n",
    "print(\"----------------------------------------\")"
   ]
  },
  {
   "cell_type": "code",
   "execution_count": 44,
   "id": "c039a033",
   "metadata": {},
   "outputs": [
    {
     "name": "stdout",
     "output_type": "stream",
     "text": [
      "\"racecar\" is a palindrome.\n",
      "----------------------------------------\n",
      "Enroll : 92510133027, Name : Meet\n",
      "----------------------------------------\n"
     ]
    }
   ],
   "source": [
    "#Write a Python program to check if a string is a palindrome\n",
    "\n",
    "def is_palindrome(s):\n",
    "    # Remove spaces and convert to lowercase\n",
    "    s = s.replace(\" \", \"\").lower()\n",
    "    # Check if the string is equal to its reverse\n",
    "    return s == s[::-1]\n",
    "\n",
    "# Example usage\n",
    "input_string = \"racecar\"\n",
    "if is_palindrome(input_string):\n",
    "    print(f'\"{input_string}\" is a palindrome.')\n",
    "else:\n",
    "    print(f'\"{input_string}\" is not a palindrome.')\n",
    "\n",
    "print(\"----------------------------------------\")\n",
    "print(\"Enroll : 92510133027, Name : Meet\")\n",
    "print(\"----------------------------------------\")"
   ]
  },
  {
   "cell_type": "code",
   "execution_count": 45,
   "id": "c65eb62c",
   "metadata": {},
   "outputs": [
    {
     "name": "stdout",
     "output_type": "stream",
     "text": [
      "\"123456\" contains only digits.\n",
      "----------------------------------------\n",
      "Enroll : 92510133027, Name : Meet\n",
      "----------------------------------------\n"
     ]
    }
   ],
   "source": [
    "#c.Write a Python program to check if a string contains only digits.\n",
    "\n",
    "def contains_only_digits(s):\n",
    "    return s.isdigit()\n",
    "\n",
    "# Example usage\n",
    "input_string = \"123456\"\n",
    "\n",
    "if contains_only_digits(input_string):\n",
    "    print(f'\"{input_string}\" contains only digits.')\n",
    "\n",
    "else:\n",
    "    print(f'\"{input_string}\" does not contain only digits.')\n",
    "\n",
    "print(\"----------------------------------------\")\n",
    "print(\"Enroll : 92510133027, Name : Meet\")\n",
    "print(\"----------------------------------------\")"
   ]
  },
  {
   "cell_type": "code",
   "execution_count": 46,
   "id": "82774f71",
   "metadata": {},
   "outputs": [
    {
     "name": "stdout",
     "output_type": "stream",
     "text": [
      "The longest word in the sentence is: 'quick'\n",
      "----------------------------------------\n",
      "Enroll : 92510133027, Name : Meet\n",
      "----------------------------------------\n"
     ]
    }
   ],
   "source": [
    "#Write a Python program to find the longest word in a sentence small code\n",
    "\n",
    "def find_longest_word(sentence):\n",
    "    words = sentence.split()\n",
    "    longest_word = max(words, key=len)\n",
    "    return longest_word\n",
    "\n",
    "# Example usage\n",
    "input_sentence = \"The quick brown fox jumps over the lazy dog\"\n",
    "\n",
    "longest_word = find_longest_word(input_sentence)\n",
    "print(f\"The longest word in the sentence is: '{longest_word}'\")\n",
    "print(\"----------------------------------------\")\n",
    "print(\"Enroll : 92510133027, Name : Meet\")\n",
    "print(\"----------------------------------------\")"
   ]
  },
  {
   "cell_type": "code",
   "execution_count": 47,
   "id": "b83455fe",
   "metadata": {},
   "outputs": [
    {
     "name": "stdout",
     "output_type": "stream",
     "text": [
      "The length of the last word is: 9\n",
      "----------------------------------------\n",
      "Enroll : 92510133027, Name : Meet\n",
      "----------------------------------------\n"
     ]
    }
   ],
   "source": [
    "#Write a Python program to find the length of the last word in a sentence compact code\n",
    "\n",
    "def length_of_last_word(sentence):\n",
    "    words = sentence.split()\n",
    "    if words:\n",
    "        return len(words[-1])\n",
    "    return 0\n",
    "\n",
    "# Example usage\n",
    "input_sentence = \"Hello, World! This is a test sentence.\"\n",
    "last_word_length = length_of_last_word(input_sentence)\n",
    "\n",
    "print(f\"The length of the last word is: {last_word_length}\")\n",
    "print(\"----------------------------------------\")\n",
    "print(\"Enroll : 92510133027, Name : Meet\")\n",
    "print(\"----------------------------------------\")"
   ]
  }
 ],
 "metadata": {
  "kernelspec": {
   "display_name": "Python 3",
   "language": "python",
   "name": "python3"
  },
  "language_info": {
   "codemirror_mode": {
    "name": "ipython",
    "version": 3
   },
   "file_extension": ".py",
   "mimetype": "text/x-python",
   "name": "python",
   "nbconvert_exporter": "python",
   "pygments_lexer": "ipython3",
   "version": "3.12.10"
  }
 },
 "nbformat": 4,
 "nbformat_minor": 5
}
