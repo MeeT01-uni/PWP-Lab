{
 "cells": [
  {
   "cell_type": "code",
   "execution_count": 3,
   "id": "246e8131",
   "metadata": {},
   "outputs": [
    {
     "name": "stdout",
     "output_type": "stream",
     "text": [
      "(0, [1, 2, 3], (4, 5, 6), 7.0)\n"
     ]
    }
   ],
   "source": [
    "a_tuple = (0, [1, 2, 3], (4, 5, 6), 7.0)\n",
    "print(a_tuple)"
   ]
  },
  {
   "cell_type": "code",
   "execution_count": 4,
   "id": "af3fdc1f",
   "metadata": {},
   "outputs": [
    {
     "name": "stdout",
     "output_type": "stream",
     "text": [
      "Python\n"
     ]
    }
   ],
   "source": [
    "languages = ('Python', 'Swift', 'C++')\n",
    "languages = ('Python', 'Swift', 'C++')\n",
    "# access the first item\n",
    "print(languages[0])"
   ]
  },
  {
   "cell_type": "code",
   "execution_count": 5,
   "id": "825d7242",
   "metadata": {},
   "outputs": [
    {
     "name": "stdout",
     "output_type": "stream",
     "text": [
      "Total Items: 4\n"
     ]
    }
   ],
   "source": [
    "cars = ('BMW', 'Tesla', 'Ford', 'Toyota')\n",
    "print('Total Items:', len(cars))"
   ]
  },
  {
   "cell_type": "code",
   "execution_count": 2,
   "id": "eb8a9125",
   "metadata": {},
   "outputs": [
    {
     "data": {
      "text/plain": [
       "(0, 1, 2, 3, 4)"
      ]
     },
     "execution_count": 2,
     "metadata": {},
     "output_type": "execute_result"
    }
   ],
   "source": [
    "tuple(range(5))"
   ]
  },
  {
   "cell_type": "code",
   "execution_count": 3,
   "id": "5aa73588",
   "metadata": {},
   "outputs": [
    {
     "name": "stdout",
     "output_type": "stream",
     "text": [
      "(5, 6, 7, 8, 9)\n"
     ]
    }
   ],
   "source": [
    "b = tuple(range(5,10))\n",
    "print(b)"
   ]
  },
  {
   "cell_type": "code",
   "execution_count": 5,
   "id": "efcb550a",
   "metadata": {},
   "outputs": [
    {
     "name": "stdout",
     "output_type": "stream",
     "text": [
      "(0, 2, 4, 6, 8)\n"
     ]
    }
   ],
   "source": [
    "c = tuple(range(0,10,2))\n",
    "print(c)"
   ]
  },
  {
   "cell_type": "code",
   "execution_count": 6,
   "id": "3507ea7e",
   "metadata": {},
   "outputs": [
    {
     "name": "stdout",
     "output_type": "stream",
     "text": [
      "(10, 8, 6, 4, 2)\n"
     ]
    }
   ],
   "source": [
    "d = tuple(range(10,0,-2))\n",
    "print(d)"
   ]
  },
  {
   "cell_type": "code",
   "execution_count": 7,
   "id": "0c78af56",
   "metadata": {},
   "outputs": [
    {
     "data": {
      "text/plain": [
       "6"
      ]
     },
     "execution_count": 7,
     "metadata": {},
     "output_type": "execute_result"
    }
   ],
   "source": [
    "d = (3,[5,6,7],(4,5,6),[5,6,7,(6,7,8)],9,10)\n",
    "d[1][1]"
   ]
  },
  {
   "cell_type": "code",
   "execution_count": 8,
   "id": "38a45b24",
   "metadata": {},
   "outputs": [
    {
     "name": "stdout",
     "output_type": "stream",
     "text": [
      "14\n"
     ]
    }
   ],
   "source": [
    "t1 = (2,3,4,5)\n",
    "print(sum(t1))"
   ]
  },
  {
   "cell_type": "code",
   "execution_count": 9,
   "id": "e7eddd76",
   "metadata": {},
   "outputs": [
    {
     "name": "stdout",
     "output_type": "stream",
     "text": [
      "4\n"
     ]
    }
   ],
   "source": [
    "t3 = (3,4,4,2,2,3,6,7,4,4)\n",
    "print(t3.count(4))"
   ]
  },
  {
   "cell_type": "code",
   "execution_count": 10,
   "id": "4945be3e",
   "metadata": {},
   "outputs": [
    {
     "name": "stdout",
     "output_type": "stream",
     "text": [
      "3\n",
      "8\n"
     ]
    }
   ],
   "source": [
    "t3 = (3,4,4,2,2,3,6,7,4,4)\n",
    "print(t3.index(2))\n",
    "print(t3.index(4,3,9))"
   ]
  },
  {
   "cell_type": "code",
   "execution_count": 11,
   "id": "60c32404",
   "metadata": {},
   "outputs": [
    {
     "name": "stdout",
     "output_type": "stream",
     "text": [
      "2\n"
     ]
    }
   ],
   "source": [
    "t3 = (3,4,4,2,2,3,6,7,4,4)\n",
    "print(min(t3))"
   ]
  },
  {
   "cell_type": "code",
   "execution_count": 14,
   "id": "b9a61715",
   "metadata": {},
   "outputs": [
    {
     "name": "stdout",
     "output_type": "stream",
     "text": [
      "9\n"
     ]
    }
   ],
   "source": [
    "numbers = (7, 2, 8, 5, 9)\n",
    "print(max(numbers))"
   ]
  },
  {
   "cell_type": "code",
   "execution_count": 16,
   "id": "173af727",
   "metadata": {},
   "outputs": [
    {
     "name": "stdout",
     "output_type": "stream",
     "text": [
      "(5, 6, 7, 9)\n",
      "('a', 'b', 'v')\n"
     ]
    }
   ],
   "source": [
    "a = (5,6,7,5,5,9,7)\n",
    "b = (\"a\",\"b\",\"v\",\"b\")\n",
    "my_tu_1 = tuple(dict.fromkeys(a))\n",
    "print(my_tu_1)\n",
    "my_tu_2 = tuple(dict.fromkeys(b))\n",
    "print(my_tu_2)"
   ]
  },
  {
   "cell_type": "code",
   "execution_count": 18,
   "id": "58449360",
   "metadata": {},
   "outputs": [
    {
     "name": "stdout",
     "output_type": "stream",
     "text": [
      "(('Simon', 'Sinek', 49), ('Sarah', 'Smith', 55), ('Mehdi', 'Lotfinejad', 39), ('Fatime', 'Lopes', 33))\n"
     ]
    }
   ],
   "source": [
    "first_names = ('Simon', 'Sarah', 'Mehdi', 'Fatime')\n",
    "last_names = ('Sinek', 'Smith', 'Lotfinejad', 'Lopes')\n",
    "ages = (49, 55, 39, 33)\n",
    "zipped = tuple(zip(first_names, last_names,ages))\n",
    "print(zipped)"
   ]
  },
  {
   "cell_type": "code",
   "execution_count": 20,
   "id": "0827c85b",
   "metadata": {},
   "outputs": [
    {
     "name": "stdout",
     "output_type": "stream",
     "text": [
      "(1, 2, 3, 4, 5, 6)\n"
     ]
    }
   ],
   "source": [
    "b = ((1,2),(3,4),(5,6))\n",
    "my = tuple(item for l in b for item in l)\n",
    "print(my)"
   ]
  },
  {
   "cell_type": "code",
   "execution_count": 21,
   "id": "fe76eb0c",
   "metadata": {},
   "outputs": [
    {
     "name": "stdout",
     "output_type": "stream",
     "text": [
      "The element 2 occurs 3 times in the tuple.\n"
     ]
    }
   ],
   "source": [
    "\n",
    "def count_occurrences(tup, element):\n",
    "    return tup.count(element)\n",
    "\n",
    "my_tuple = (1, 2, 3, 4, 2, 5, 2)\n",
    "element_to_count = 2\n",
    "occurrences = count_occurrences(my_tuple, element_to_count)\n",
    "print(f\"The element {element_to_count} occurs {occurrences} times in the tuple.\")\n",
    "\n"
   ]
  },
  {
   "cell_type": "code",
   "execution_count": 22,
   "id": "a9632109",
   "metadata": {},
   "outputs": [
    {
     "name": "stdout",
     "output_type": "stream",
     "text": [
      "True\n"
     ]
    }
   ],
   "source": [
    "\n",
    "# b.Write a Python program to Check if an element exists in a tuple.\n",
    "t3 = (3,4,4,2,2,3,6,7,4,4)\n",
    "print(4 in t3)\n",
    "\n"
   ]
  },
  {
   "cell_type": "code",
   "execution_count": 23,
   "id": "783be168",
   "metadata": {},
   "outputs": [
    {
     "name": "stdout",
     "output_type": "stream",
     "text": [
      "1234\n"
     ]
    }
   ],
   "source": [
    "\n",
    "# c.Write a Python program to Convert a tuple to a string.\n",
    "def tuple_to_string(tup):\n",
    "    return ''.join(map(str, tup))\n",
    "my_tuple = (1, 2, 3, 4)\n",
    "my_string = tuple_to_string(my_tuple)\n",
    "print(my_string)\n",
    "\n"
   ]
  },
  {
   "cell_type": "code",
   "execution_count": 24,
   "id": "bd92a1f8",
   "metadata": {},
   "outputs": [
    {
     "name": "stdout",
     "output_type": "stream",
     "text": [
      "Maximum: 5, Minimum: 1\n"
     ]
    }
   ],
   "source": [
    "# d.Write a Python program to Find the maximum and minimum elements in a tuple.\n",
    "def find_max_min(tup):\n",
    "    return max(tup), min(tup)\n",
    "my_tuple = (1, 2, 3, 4, 5)\n",
    "max_value, min_value = find_max_min(my_tuple)\n",
    "print(f\"Maximum: {max_value}, Minimum: {min_value}\")\n",
    "\n"
   ]
  },
  {
   "cell_type": "code",
   "execution_count": 25,
   "id": "541ba6ab",
   "metadata": {},
   "outputs": [
    {
     "name": "stdout",
     "output_type": "stream",
     "text": [
      "Hello World Python\n"
     ]
    }
   ],
   "source": [
    "# e.Write a Python program to convert a tuple of strings to a single string.\n",
    "def convert_tuple_to_string(tup):\n",
    "    return ' '.join(tup)\n",
    "my_tuple = ('Hello', 'World', 'Python')\n",
    "my_string = convert_tuple_to_string(my_tuple)\n",
    "print(my_string)\n",
    "\n"
   ]
  },
  {
   "cell_type": "code",
   "execution_count": 26,
   "id": "b2d6013a",
   "metadata": {},
   "outputs": [
    {
     "name": "stdout",
     "output_type": "stream",
     "text": [
      "(1, 2, 5, 5, 6, 9)\n"
     ]
    }
   ],
   "source": [
    "\n",
    "# f.Write a Python program to sort a tuple of integers.\n",
    "def sort_tuple(tup):\n",
    "    return tuple(sorted(tup))\n",
    "my_tuple = (5, 2, 9, 1, 5, 6)\n",
    "sorted_tuple = sort_tuple(my_tuple)\n",
    "print(sorted_tuple)\n",
    "\n"
   ]
  },
  {
   "cell_type": "code",
   "execution_count": 27,
   "id": "2479a429",
   "metadata": {},
   "outputs": [
    {
     "name": "stdout",
     "output_type": "stream",
     "text": [
      "First element: 1, Last element: 5\n"
     ]
    }
   ],
   "source": [
    "# g.Write a python program to find the first and last elements of a tuple.\n",
    "def first_and_last(tup):\n",
    "    return tup[0], tup[-1]\n",
    "my_tuple = (1, 2, 3, 4, 5)\n",
    "first_element, last_element = first_and_last(my_tuple)\n",
    "print(f\"First element: {first_element}, Last element: {last_element}\")\n",
    "\n",
    "\n"
   ]
  }
 ],
 "metadata": {
  "kernelspec": {
   "display_name": "Python 3",
   "language": "python",
   "name": "python3"
  },
  "language_info": {
   "codemirror_mode": {
    "name": "ipython",
    "version": 3
   },
   "file_extension": ".py",
   "mimetype": "text/x-python",
   "name": "python",
   "nbconvert_exporter": "python",
   "pygments_lexer": "ipython3",
   "version": "3.12.10"
  }
 },
 "nbformat": 4,
 "nbformat_minor": 5
}
