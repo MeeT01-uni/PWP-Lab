{
 "cells": [
  {
   "cell_type": "code",
   "execution_count": 2,
   "id": "eeba1323",
   "metadata": {},
   "outputs": [
    {
     "data": {
      "text/plain": [
       "array([2, 4, 6, 8])"
      ]
     },
     "execution_count": 2,
     "metadata": {},
     "output_type": "execute_result"
    }
   ],
   "source": [
    "import numpy as np\n",
    "list1 = [2, 4, 6, 8]\n",
    "array1 = np.array(list1)\n",
    "array1"
   ]
  },
  {
   "cell_type": "code",
   "execution_count": 3,
   "id": "1a837b64",
   "metadata": {},
   "outputs": [
    {
     "name": "stdout",
     "output_type": "stream",
     "text": [
      "[2 4 6 8]\n"
     ]
    }
   ],
   "source": [
    "import numpy as np\n",
    "array1 = np.array([2, 4, 6, 8])\n",
    "print(array1)"
   ]
  },
  {
   "cell_type": "code",
   "execution_count": 4,
   "id": "897b44e6",
   "metadata": {},
   "outputs": [
    {
     "name": "stdout",
     "output_type": "stream",
     "text": [
      "[0. 0. 0. 0.]\n"
     ]
    }
   ],
   "source": [
    "import numpy as np\n",
    "array1 = np.zeros(4)\n",
    "print(array1)"
   ]
  },
  {
   "cell_type": "code",
   "execution_count": 6,
   "id": "84fc2ef5",
   "metadata": {},
   "outputs": [
    {
     "name": "stdout",
     "output_type": "stream",
     "text": [
      "Using np.arange(5): [0 1 2 3 4]\n",
      "Using np.arange(1, 9, 2): [1 3 5 7]\n"
     ]
    }
   ],
   "source": [
    "array1 = np.arange(5)\n",
    "print(\"Using np.arange(5):\", array1)\n",
    "# create an array with values from 1 to 8 with a step of 2\n",
    "array2 = np.arange(1, 9, 2)\n",
    "print(\"Using np.arange(1, 9, 2):\",array2)"
   ]
  },
  {
   "cell_type": "code",
   "execution_count": 9,
   "id": "6281f9dd",
   "metadata": {},
   "outputs": [
    {
     "name": "stdout",
     "output_type": "stream",
     "text": [
      "[0.83690195 0.4019023  0.94407662 0.05353671 0.61914839]\n"
     ]
    }
   ],
   "source": [
    "import numpy as np\n",
    "# generate an array of 5 random numbers\n",
    "array1 = np.random.rand(5)\n",
    "print(array1)"
   ]
  },
  {
   "cell_type": "code",
   "execution_count": 10,
   "id": "b640adb9",
   "metadata": {},
   "outputs": [
    {
     "name": "stdout",
     "output_type": "stream",
     "text": [
      "My 1D array:\n",
      " [10 20 30]\n"
     ]
    }
   ],
   "source": [
    "import numpy as np\n",
    "# Example 1: Creation of 1D array\n",
    "arr1=np.array([10,20,30])\n",
    "print(\"My 1D array:\\n\",arr1)"
   ]
  },
  {
   "cell_type": "code",
   "execution_count": 11,
   "id": "7e29f243",
   "metadata": {},
   "outputs": [
    {
     "name": "stdout",
     "output_type": "stream",
     "text": [
      "My 2D numpy array:\n",
      " [[10 20 30]\n",
      " [40 50 60]]\n"
     ]
    }
   ],
   "source": [
    "arr2 = np.array([[10,20,30],[40,50,60]])\n",
    "print(\"My 2D numpy array:\\n\", arr2)"
   ]
  },
  {
   "cell_type": "code",
   "execution_count": 12,
   "id": "39e6d449",
   "metadata": {},
   "outputs": [
    {
     "name": "stdout",
     "output_type": "stream",
     "text": [
      "A sequential array with steps of 3:\n",
      " [ 0  3  6  9 12 15 18]\n"
     ]
    }
   ],
   "source": [
    "arr= np.arange(0, 20, 3)\n",
    "print (\"A sequential array with steps of 3:\\n\", arr)"
   ]
  },
  {
   "cell_type": "code",
   "execution_count": 13,
   "id": "95f69f77",
   "metadata": {},
   "outputs": [
    {
     "name": "stdout",
     "output_type": "stream",
     "text": [
      "A sequential array with 5 values between 0 and 5:\n",
      " [0.   0.75 1.5  2.25 3.  ]\n"
     ]
    }
   ],
   "source": [
    "arr= np.linspace(0, 3, 5)\n",
    "print (\"A sequential array with 5 values between 0 and 5:\\n\", arr)"
   ]
  },
  {
   "cell_type": "code",
   "execution_count": 14,
   "id": "4ed56e7a",
   "metadata": {},
   "outputs": [
    {
     "name": "stdout",
     "output_type": "stream",
     "text": [
      "numpy array:\n",
      " [[1. 1. 1.]\n",
      " [1. 1. 1.]]\n",
      "Type: <class 'numpy.ndarray'>\n"
     ]
    }
   ],
   "source": [
    "arr = np.ones((2,3))\n",
    "print(\"numpy array:\\n\", arr)\n",
    "print(\"Type:\", type(arr))"
   ]
  },
  {
   "cell_type": "code",
   "execution_count": 15,
   "id": "c94f72db",
   "metadata": {},
   "outputs": [
    {
     "name": "stdout",
     "output_type": "stream",
     "text": [
      "int64\n",
      "float64\n",
      "complex128\n"
     ]
    }
   ],
   "source": [
    "import numpy as np\n",
    "# create an array of  integers\n",
    "int_array = np.array([-3, -1, 0, 1])\n",
    "# create an array of floating-point numbers\n",
    "float_array = np.array([0.1, 0.2, 0.3])\n",
    "# create an array of complex numbers\n",
    "complex_array = np.array([1+2j, 2+3j, 3+4j])\n",
    "# check the data type of int_array\n",
    "print(int_array.dtype)  # prints int64\n",
    "# check the data type of float_array\n",
    "print(float_array.dtype)  # prints float64\n",
    "# check the data type of complex_array\n",
    "print(complex_array.dtype)  # prints complex128"
   ]
  },
  {
   "cell_type": "code",
   "execution_count": 16,
   "id": "724475b9",
   "metadata": {},
   "outputs": [
    {
     "name": "stdout",
     "output_type": "stream",
     "text": [
      "[1 3 7] int8\n",
      "[2 4 6] uint16\n",
      "[1.2 2.3 3.4] float32\n",
      "[1.+2.j 2.+3.j 3.+4.j] complex64\n"
     ]
    }
   ],
   "source": [
    "import numpy as np\n",
    "# create an array of 8-bit integers\n",
    "array1 = np.array([1, 3, 7], dtype='int8')\n",
    "# create an array of unsigned 16-bit integers\n",
    "array2 = np.array([2, 4, 6], dtype='uint16')\n",
    "# create an array of 32-bit floating-point numbers\n",
    "array3 = np.array([1.2, 2.3, 3.4], dtype='float32')\n",
    "# create an array of 64-bit complex numbers\n",
    "array4 = np.array([1+2j, 2+3j, 3+4j], dtype='complex64')\n",
    "# print the arrays and their data types\n",
    "print(array1, array1.dtype)\n",
    "print(array2, array2.dtype)\n",
    "print(array3, array3.dtype)\n",
    "print(array4, array4.dtype)"
   ]
  },
  {
   "cell_type": "code",
   "execution_count": 17,
   "id": "5a7f0309",
   "metadata": {},
   "outputs": [
    {
     "name": "stdout",
     "output_type": "stream",
     "text": [
      "[1 3 5 7] int64\n",
      "[1. 3. 5. 7.] float64\n"
     ]
    }
   ],
   "source": [
    "import numpy as np\n",
    "# create an array of integers\n",
    "int_array = np.array([1, 3, 5, 7])\n",
    "# convert data type of int_array to float\n",
    "float_array = int_array.astype('float')\n",
    "# print the arrays and their data types\n",
    "print(int_array, int_array.dtype)\n",
    "print(float_array, float_array.dtype)"
   ]
  },
  {
   "cell_type": "code",
   "execution_count": 18,
   "id": "eb2589d4",
   "metadata": {},
   "outputs": [
    {
     "name": "stdout",
     "output_type": "stream",
     "text": [
      "2\n"
     ]
    }
   ],
   "source": [
    "import numpy as np\n",
    "# create a 2-D array \n",
    "array1 = np.array([[2, 4, 6],\n",
    "                  [1, 3, 5]])\n",
    "# check the dimension of array1\n",
    "print(array1.ndim)"
   ]
  },
  {
   "cell_type": "code",
   "execution_count": 19,
   "id": "cf5e057e",
   "metadata": {},
   "outputs": [
    {
     "name": "stdout",
     "output_type": "stream",
     "text": [
      "6\n"
     ]
    }
   ],
   "source": [
    "import numpy as np\n",
    "array1 = np.array([[1, 2, 3],\n",
    "                 [6, 7, 8]])\n",
    "# return total number of elements in array1\n",
    "print(array1.size)"
   ]
  },
  {
   "cell_type": "code",
   "execution_count": 21,
   "id": "e2dd546c",
   "metadata": {},
   "outputs": [
    {
     "data": {
      "text/plain": [
       "array([[1, 2, 3],\n",
       "       [6, 7, 8]])"
      ]
     },
     "execution_count": 21,
     "metadata": {},
     "output_type": "execute_result"
    }
   ],
   "source": [
    "import numpy as np\n",
    "array1 = np.array([[1, 2, 3],\n",
    "                [6, 7, 8]])\n",
    "array1"
   ]
  },
  {
   "cell_type": "code",
   "execution_count": 22,
   "id": "41360425",
   "metadata": {},
   "outputs": [
    {
     "name": "stdout",
     "output_type": "stream",
     "text": [
      "int64\n"
     ]
    }
   ],
   "source": [
    "import numpy as np\n",
    "# create an array of integers \n",
    "array1 = np.array([6, 7, 8])\n",
    "# check the data type of array1\n",
    "print(array1.dtype)"
   ]
  },
  {
   "cell_type": "code",
   "execution_count": 23,
   "id": "59461db1",
   "metadata": {},
   "outputs": [
    {
     "name": "stdout",
     "output_type": "stream",
     "text": [
      "8\n",
      "4\n"
     ]
    }
   ],
   "source": [
    "# create a default 1-D array of integers\n",
    "array1 = np.array([6, 7, 8, 10, 13])\n",
    "# create a 1-D array of 32-bit integers \n",
    "array2 = np.array([6, 7, 8, 10, 13], dtype=np.int32)\n",
    "# use of itemsize to determine size of each array element of array1 and array2\n",
    "print(array1.itemsize)  # prints 8\n",
    "print(array2.itemsize)  # prints 4"
   ]
  },
  {
   "cell_type": "code",
   "execution_count": 25,
   "id": "6d254c23",
   "metadata": {},
   "outputs": [
    {
     "name": "stdout",
     "output_type": "stream",
     "text": [
      "\n",
      "Data of array1 is:  <memory at 0x000002D4B92687C0>\n",
      "Data of array2 is:  <memory at 0x000002D4B927CFB0>\n"
     ]
    }
   ],
   "source": [
    "import numpy as np\n",
    "array1 = np.array([6, 7, 8])\n",
    "array2 = np.array([[1, 2, 3],\n",
    "                   \t    [6, 7, 8]])\n",
    "# print memory address of array1's and array2's data\n",
    "print(\"\\nData of array1 is: \",array1.data)\n",
    "print(\"Data of array2 is: \",array2.data)"
   ]
  },
  {
   "cell_type": "code",
   "execution_count": 27,
   "id": "6f401c2b",
   "metadata": {},
   "outputs": [
    {
     "name": "stdout",
     "output_type": "stream",
     "text": [
      "Original matrices:\n",
      "[[1, 0], [0, 1]]\n",
      "[[1, 2], [3, 4]]\n",
      "Result of the matrix multiplication:\n",
      "[[1 2]\n",
      " [3 4]]\n"
     ]
    }
   ],
   "source": [
    "import numpy as np\n",
    "p = [[1, 0], [0, 1]]\n",
    "q = [[1, 2], [3, 4]]\n",
    "print(\"Original matrices:\")\n",
    "print(p)\n",
    "print(q)\n",
    "# Perform matrix multiplication using np.dot\n",
    "result1 = np.dot(p, q)\n",
    "print(\"Result of the matrix multiplication:\")\n",
    "print(result1)"
   ]
  },
  {
   "cell_type": "code",
   "execution_count": 29,
   "id": "09272ec1",
   "metadata": {},
   "outputs": [
    {
     "name": "stdout",
     "output_type": "stream",
     "text": [
      "Original 2-d array\n",
      "[[1 0]\n",
      " [1 2]]\n",
      "Determinant of the said 2-D array:\n",
      "2.0\n"
     ]
    }
   ],
   "source": [
    "import numpy as np\n",
    "from numpy import linalg as LAD\n",
    "a = np.array([[1, 0], [1, 2]])\n",
    "# Display the original 2x2 array 'a'\n",
    "print(\"Original 2-d array\")\n",
    "print(a)\n",
    "print(\"Determinant of the said 2-D array:\")\n",
    "print(np.linalg.det(a))"
   ]
  },
  {
   "cell_type": "code",
   "execution_count": 30,
   "id": "534ee014",
   "metadata": {},
   "outputs": [
    {
     "name": "stdout",
     "output_type": "stream",
     "text": [
      "[[ 2  3  4]\n",
      " [ 5  6  7]\n",
      " [ 8  9 10]]\n"
     ]
    }
   ],
   "source": [
    "#a.Write a NumPy program to create a 3x3 matrix with values ranging from 2 to 10.\n",
    "matrix = np.arange(2, 11).reshape(3, 3)\n",
    "print(matrix)\n"
   ]
  },
  {
   "cell_type": "code",
   "execution_count": 31,
   "id": "ef335ffb",
   "metadata": {},
   "outputs": [
    {
     "name": "stdout",
     "output_type": "stream",
     "text": [
      "[[10  9  8]\n",
      " [ 7  6  5]\n",
      " [ 4  3  2]]\n"
     ]
    }
   ],
   "source": [
    "#b.Write a NumPy program to reverse an array (the first element becomes the last).\n",
    "reversed_array = np.flip(matrix)\n",
    "print(reversed_array)\n"
   ]
  },
  {
   "cell_type": "code",
   "execution_count": 32,
   "id": "ae576a90",
   "metadata": {},
   "outputs": [
    {
     "name": "stdout",
     "output_type": "stream",
     "text": [
      "[4 5]\n"
     ]
    }
   ],
   "source": [
    "#c.Write a NumPy program to find common values between two arrays.\n",
    "array1 = np.array([1, 2, 3, 4, 5])\n",
    "array2 = np.array([4, 5, 6, 7, 8])\n",
    "common_values = np.intersect1d(array1, array2)\n",
    "print(common_values)\n"
   ]
  },
  {
   "cell_type": "code",
   "execution_count": 33,
   "id": "35d7cf49",
   "metadata": {},
   "outputs": [
    {
     "name": "stdout",
     "output_type": "stream",
     "text": [
      "[1 1 2 2 3 3]\n"
     ]
    }
   ],
   "source": [
    "#d.Write a NumPy program to repeat array elements.\n",
    "array = np.array([1, 2, 3])\n",
    "repeated_array = np.repeat(array, 2)\n",
    "print(repeated_array)\n"
   ]
  },
  {
   "cell_type": "code",
   "execution_count": 34,
   "id": "bd92e3e2",
   "metadata": {},
   "outputs": [
    {
     "name": "stdout",
     "output_type": "stream",
     "text": [
      "24\n"
     ]
    }
   ],
   "source": [
    "#e.Write a NumPy program to find the memory size of a NumPy array.\n",
    "array = np.array([1, 2, 3])\n",
    "memory_size = array.nbytes\n",
    "print(memory_size)\n"
   ]
  },
  {
   "cell_type": "code",
   "execution_count": 35,
   "id": "1cd0080e",
   "metadata": {},
   "outputs": [
    {
     "name": "stdout",
     "output_type": "stream",
     "text": [
      "[[1. 1. 1.]\n",
      " [1. 1. 1.]\n",
      " [1. 1. 1.]]\n",
      "[[0. 0. 0.]\n",
      " [0. 0. 0.]\n",
      " [0. 0. 0.]]\n"
     ]
    }
   ],
   "source": [
    "\n",
    "#f.Write a NumPy program to create an array of ones and zeros.\n",
    "ones_array = np.ones((3, 3))\n",
    "zeros_array = np.zeros((3, 3))\n",
    "print(ones_array)\n",
    "print(zeros_array)\n"
   ]
  },
  {
   "cell_type": "code",
   "execution_count": 36,
   "id": "e2443a31",
   "metadata": {},
   "outputs": [
    {
     "name": "stdout",
     "output_type": "stream",
     "text": [
      "40\n"
     ]
    }
   ],
   "source": [
    "#g.Write a NumPy program to find the 4th element of a specified array.\n",
    "array = np.array([10, 20, 30, 40, 50])\n",
    "fourth_element = array[3]\n",
    "print(fourth_element)"
   ]
  }
 ],
 "metadata": {
  "kernelspec": {
   "display_name": "Python 3",
   "language": "python",
   "name": "python3"
  },
  "language_info": {
   "codemirror_mode": {
    "name": "ipython",
    "version": 3
   },
   "file_extension": ".py",
   "mimetype": "text/x-python",
   "name": "python",
   "nbconvert_exporter": "python",
   "pygments_lexer": "ipython3",
   "version": "3.12.10"
  }
 },
 "nbformat": 4,
 "nbformat_minor": 5
}
