{
 "cells": [
  {
   "cell_type": "code",
   "execution_count": 1,
   "id": "b79db251",
   "metadata": {},
   "outputs": [
    {
     "name": "stdout",
     "output_type": "stream",
     "text": [
      "Car: Toyota, Model: Corolla\n"
     ]
    }
   ],
   "source": [
    "class Car:\n",
    "    # Constructor to initialize the object\n",
    "    def __init__(self, brand, model):\n",
    "        self.brand = brand  # Attribute\n",
    "        self.model = model  # Attribute\n",
    "\n",
    "    # Method to describe the car\n",
    "    def car_details(self):\n",
    "        return f\"Car: {self.brand}, Model: {self.model}\"\n",
    "\n",
    "# Creating an object of the Car class\n",
    "my_car = Car(\"Toyota\", \"Corolla\")\n",
    "print(my_car.car_details())  "
   ]
  },
  {
   "cell_type": "code",
   "execution_count": 3,
   "id": "02fd316b",
   "metadata": {},
   "outputs": [
    {
     "name": "stdout",
     "output_type": "stream",
     "text": [
      "Area: 50\n",
      "Perimeter: 30\n"
     ]
    }
   ],
   "source": [
    "class Rectangle:\n",
    "    def __init__(self, width, height):\n",
    "        self.width = width\n",
    "        self.height = height\n",
    "\n",
    "    # Method to calculate area\n",
    "    def area(self):\n",
    "        return self.width * self.height\n",
    "\n",
    "    # Method to calculate perimeter\n",
    "    def perimeter(self):\n",
    "        return 2 * (self.width + self.height)\n",
    "\n",
    "# Create an object\n",
    "rect = Rectangle(10, 5)\n",
    "\n",
    "# Accessing methods\n",
    "print(f\"Area: {rect.area()}\")  # Output: Area: 50\n",
    "print(f\"Perimeter: {rect.perimeter()}\")  # Output: Perimeter: 30"
   ]
  },
  {
   "cell_type": "code",
   "execution_count": 4,
   "id": "ea6b52a6",
   "metadata": {},
   "outputs": [
    {
     "name": "stdout",
     "output_type": "stream",
     "text": [
      "1500\n",
      "800\n"
     ]
    }
   ],
   "source": [
    "class BankAccount:\n",
    "    def __init__(self, account_holder, balance):\n",
    "        self.account_holder = account_holder\n",
    "        self.__balance = balance  # Private attribute\n",
    "\n",
    "    def deposit(self, amount):\n",
    "        self.__balance += amount\n",
    "\n",
    "    def withdraw(self, amount):\n",
    "        if amount <= self.__balance:\n",
    "            self.__balance -= amount\n",
    "        else:\n",
    "            print(\"Insufficient funds\")\n",
    "\n",
    "    def get_balance(self):\n",
    "        return self.__balance\n",
    "\n",
    "# Create an account\n",
    "account = BankAccount(\"John\", 1000)\n",
    "account.deposit(500)\n",
    "print(account.get_balance())  # \n",
    "account.withdraw(700)\n",
    "print(account.get_balance())  # "
   ]
  },
  {
   "cell_type": "code",
   "execution_count": 5,
   "id": "8dd27171",
   "metadata": {},
   "outputs": [
    {
     "name": "stdout",
     "output_type": "stream",
     "text": [
      "Buddy says Woof!\n",
      "Whiskers says Meow!\n"
     ]
    }
   ],
   "source": [
    "class Animal:\n",
    "    def __init__(self, name):\n",
    "        self.name = name\n",
    "\n",
    "    def speak(self):\n",
    "        return \"I am an animal.\"\n",
    "\n",
    "# Dog class inherits from Animal class\n",
    "class Dog(Animal):\n",
    "    def speak(self):\n",
    "        return f\"{self.name} says Woof!\"\n",
    "\n",
    "# Cat class inherits from Animal class\n",
    "class Cat(Animal):\n",
    "    def speak(self):\n",
    "        return f\"{self.name} says Meow!\"\n",
    "\n",
    "dog = Dog(\"Buddy\")\n",
    "cat = Cat(\"Whiskers\")\n",
    "print(dog.speak())  # \n",
    "print(cat.speak())  # "
   ]
  },
  {
   "cell_type": "code",
   "execution_count": 6,
   "id": "c7cf60bb",
   "metadata": {},
   "outputs": [
    {
     "name": "stdout",
     "output_type": "stream",
     "text": [
      "Rendering Square...\n",
      "Rendering Circle...\n"
     ]
    }
   ],
   "source": [
    "class Polygon:\n",
    "    # method to render a shape\n",
    "    def render(self):\n",
    "        print(\"Rendering Polygon...\")\n",
    "\n",
    "class Square(Polygon):\n",
    "    # renders Square\n",
    "    def render(self):\n",
    "        print(\"Rendering Square...\")\n",
    "\n",
    "class Circle(Polygon):\n",
    "    # renders circle\n",
    "    def render(self):\n",
    "        print(\"Rendering Circle...\")\n",
    "    \n",
    "# create an object of Square\n",
    "s1 = Square()\n",
    "s1.render()\n",
    "\n",
    "# create an object of Circle\n",
    "c1 = Circle()\n",
    "c1.render()"
   ]
  },
  {
   "cell_type": "code",
   "execution_count": 7,
   "id": "f992e917",
   "metadata": {},
   "outputs": [
    {
     "name": "stdout",
     "output_type": "stream",
     "text": [
      "Area of the circle: 78.5\n"
     ]
    }
   ],
   "source": [
    "from abc import ABC, abstractmethod\n",
    "\n",
    "# Abstract class\n",
    "class Shape(ABC):\n",
    "    @abstractmethod\n",
    "    def area(self):\n",
    "        pass\n",
    "\n",
    "class Circle(Shape):\n",
    "    def __init__(self, radius):\n",
    "        self.radius = radius\n",
    "\n",
    "    def area(self):\n",
    "        return 3.14 * self.radius * self.radius\n",
    "\n",
    "circle = Circle(5)\n",
    "print(f\"Area of the circle: {circle.area()}\")  # "
   ]
  },
  {
   "cell_type": "code",
   "execution_count": 8,
   "id": "b14a2e66",
   "metadata": {},
   "outputs": [
    {
     "name": "stdout",
     "output_type": "stream",
     "text": [
      "Area of the circle: 78.5\n",
      "Perimeter of the circle: 31.400000000000002\n"
     ]
    }
   ],
   "source": [
    "# Write a Python program to create a class representing a Circle. Include methods to calculate its area and perimeter.\n",
    "\n",
    "class Circle:\n",
    "    def __init__(self, radius):\n",
    "        self.radius = radius\n",
    "\n",
    "    def area(self):\n",
    "        return 3.14 * self.radius * self.radius\n",
    "\n",
    "    def perimeter(self):\n",
    "        return 2 * 3.14 * self.radius\n",
    "\n",
    "# Create a Circle object\n",
    "circle = Circle(5)\n",
    "print(f\"Area of the circle: {circle.area()}\")\n",
    "print(f\"Perimeter of the circle: {circle.perimeter()}\")\n"
   ]
  },
  {
   "cell_type": "code",
   "execution_count": 9,
   "id": "83550f25",
   "metadata": {},
   "outputs": [
    {
     "name": "stdout",
     "output_type": "stream",
     "text": [
      "Book 1 Details:\n",
      "Title: 1984\n",
      "Author: George Orwell\n",
      "Price: $15.99\n",
      "\n",
      "Book 2 Details:\n",
      "Title: To Kill a Mockingbird\n",
      "Author: Harper Lee\n",
      "Price: $12.99\n",
      "\n",
      "Book 1 Details After Discount:\n",
      "Title: 1984\n",
      "Author: George Orwell\n",
      "Price: $14.391\n"
     ]
    }
   ],
   "source": [
    "# Create a class Book that stores details like the title, author, and price of a book. Add methods to display the details of the book and apply a discount to the price. (a) Create two objects for different books and display their details. (b) Apply a 10% discount to one of the books and display the updated price.\n",
    "\n",
    "class Book:\n",
    "    def __init__(self, title, author, price):\n",
    "        self.title = title\n",
    "        self.author = author\n",
    "        self.price = price\n",
    "\n",
    "    def display_details(self):\n",
    "        print(f\"Title: {self.title}\")\n",
    "        print(f\"Author: {self.author}\")\n",
    "        print(f\"Price: ${self.price}\")\n",
    "\n",
    "    def apply_discount(self, percentage):\n",
    "        self.price -= self.price * (percentage / 100)\n",
    "\n",
    "# (a) Create two book objects\n",
    "book1 = Book(\"1984\", \"George Orwell\", 15.99)\n",
    "book2 = Book(\"To Kill a Mockingbird\", \"Harper Lee\", 12.99)\n",
    "\n",
    "# Display their details\n",
    "print(\"Book 1 Details:\")\n",
    "book1.display_details()\n",
    "print(\"\\nBook 2 Details:\")\n",
    "book2.display_details()\n",
    "\n",
    "# (b) Apply a 10% discount to book1\n",
    "book1.apply_discount(10)\n",
    "print(\"\\nBook 1 Details After Discount:\")\n",
    "book1.display_details()\n"
   ]
  },
  {
   "cell_type": "code",
   "execution_count": null,
   "id": "cad2dba5",
   "metadata": {},
   "outputs": [],
   "source": []
  }
 ],
 "metadata": {
  "kernelspec": {
   "display_name": "Python 3",
   "language": "python",
   "name": "python3"
  },
  "language_info": {
   "codemirror_mode": {
    "name": "ipython",
    "version": 3
   },
   "file_extension": ".py",
   "mimetype": "text/x-python",
   "name": "python",
   "nbconvert_exporter": "python",
   "pygments_lexer": "ipython3",
   "version": "3.12.10"
  }
 },
 "nbformat": 4,
 "nbformat_minor": 5
}
