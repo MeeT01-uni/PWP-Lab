{
 "cells": [
  {
   "cell_type": "code",
   "execution_count": 3,
   "id": "fc5e3e14",
   "metadata": {},
   "outputs": [
    {
     "data": {
      "text/plain": [
       "<sqlite3.Cursor at 0x1741d9df9c0>"
      ]
     },
     "execution_count": 3,
     "metadata": {},
     "output_type": "execute_result"
    }
   ],
   "source": [
    "import sqlite3\n",
    "# Connect to database (or create it)\n",
    "conn = sqlite3.connect('student_record.db')\n",
    "# Create a cursor object using the cursor() method\n",
    "cursor = conn.cursor()\n",
    "cursor"
   ]
  },
  {
   "cell_type": "code",
   "execution_count": 6,
   "id": "59ff1e9f",
   "metadata": {},
   "outputs": [],
   "source": [
    "cursor.execute('''CREATE TABLE IF NOT EXISTS student_record (\n",
    "                    Enrollment INTEGER PRIMARY KEY AUTOINCREMENT,\n",
    "                    name TEXT NOT NULL,\n",
    "                    Subject TEXT NOT NULL,\n",
    "                    Mark INTEGER NOT NULL\n",
    "                )''')\n",
    "\n",
    "# Commit the changes\n",
    "conn.commit()"
   ]
  },
  {
   "cell_type": "code",
   "execution_count": 8,
   "id": "3312690a",
   "metadata": {},
   "outputs": [
    {
     "ename": "IntegrityError",
     "evalue": "UNIQUE constraint failed: student_record.Enrollment",
     "output_type": "error",
     "traceback": [
      "\u001b[31m---------------------------------------------------------------------------\u001b[39m",
      "\u001b[31mIntegrityError\u001b[39m                            Traceback (most recent call last)",
      "\u001b[36mCell\u001b[39m\u001b[36m \u001b[39m\u001b[32mIn[8]\u001b[39m\u001b[32m, line 9\u001b[39m\n\u001b[32m      1\u001b[39m student_record = [\n\u001b[32m      2\u001b[39m     (\u001b[32m92301733016\u001b[39m,\u001b[33m'\u001b[39m\u001b[33mASHUTOSH KUMAR SINGH\u001b[39m\u001b[33m'\u001b[39m,\u001b[33m'\u001b[39m\u001b[33mPWP\u001b[39m\u001b[33m'\u001b[39m,\u001b[32m95\u001b[39m),\n\u001b[32m      3\u001b[39m     (\u001b[32m92301733017\u001b[39m,\u001b[33m'\u001b[39m\u001b[33mHARSH VISHALBHAI TRIVEDI\u001b[39m\u001b[33m'\u001b[39m,\u001b[33m'\u001b[39m\u001b[33mPWP\u001b[39m\u001b[33m'\u001b[39m,\u001b[32m85\u001b[39m),\n\u001b[32m   (...)\u001b[39m\u001b[32m      6\u001b[39m     (\u001b[32m92301733058\u001b[39m,\u001b[33m'\u001b[39m\u001b[33mDEVENDRASINH DOLATSINH JADEJA\u001b[39m\u001b[33m'\u001b[39m,\u001b[33m'\u001b[39m\u001b[33mPWP\u001b[39m\u001b[33m'\u001b[39m,\u001b[32m75\u001b[39m)\n\u001b[32m      7\u001b[39m ]\n\u001b[32m      8\u001b[39m \u001b[38;5;66;03m# Using executemany to insert multiple records\u001b[39;00m\n\u001b[32m----> \u001b[39m\u001b[32m9\u001b[39m \u001b[43mcursor\u001b[49m\u001b[43m.\u001b[49m\u001b[43mexecutemany\u001b[49m\u001b[43m(\u001b[49m\u001b[33;43m'''\u001b[39;49m\u001b[33;43mINSERT INTO student_record (Enrollment, name, subject,Mark) \u001b[39;49m\n\u001b[32m     10\u001b[39m \u001b[33;43m                      VALUES (?, ?, ?,?)\u001b[39;49m\u001b[33;43m'''\u001b[39;49m\u001b[43m,\u001b[49m\u001b[43m \u001b[49m\u001b[43mstudent_record\u001b[49m\u001b[43m)\u001b[49m\n\u001b[32m     12\u001b[39m \u001b[38;5;66;03m# Commit the changes\u001b[39;00m\n\u001b[32m     13\u001b[39m conn.commit()\n",
      "\u001b[31mIntegrityError\u001b[39m: UNIQUE constraint failed: student_record.Enrollment"
     ]
    }
   ],
   "source": [
    "student_record = [\n",
    "    (92301733016,'ASHUTOSH KUMAR SINGH','PWP',95),\n",
    "    (92301733017,'HARSH VISHALBHAI TRIVEDI','PWP',85),\n",
    "    (92301733027,'VIRAJ PRAKASHBHAI VAGHASIYA','PWP',90),\n",
    "    (92301733046,'SHIVAM ATULKUMAR BHATT', 'PWP',93),\n",
    "    (92301733058,'DEVENDRASINH DOLATSINH JADEJA','PWP',75)\n",
    "]\n",
    "# Using executemany to insert multiple records\n",
    "cursor.executemany('''INSERT INTO student_record (Enrollment, name, subject,Mark) \n",
    "                      VALUES (?, ?, ?,?)''', student_record)\n",
    "\n",
    "# Commit the changes\n",
    "conn.commit()"
   ]
  },
  {
   "cell_type": "code",
   "execution_count": 10,
   "id": "3bb314ad",
   "metadata": {},
   "outputs": [
    {
     "name": "stdout",
     "output_type": "stream",
     "text": [
      "All Student Records:\n",
      "(92301733016, 'ASHUTOSH KUMAR SINGH', 'PWP', 95)\n",
      "(92301733017, 'HARSH VISHALBHAI TRIVEDI', 'PWP', 85)\n",
      "(92301733027, 'VIRAJ PRAKASHBHAI VAGHASIYA', 'PWP', 90)\n",
      "(92301733046, 'SHIVAM ATULKUMAR BHATT', 'PWP', 93)\n",
      "(92301733058, 'DEVENDRASINH DOLATSINH JADEJA', 'PWP', 75)\n"
     ]
    }
   ],
   "source": [
    "cursor.execute('SELECT * FROM student_record')\n",
    "rows = cursor.fetchall()\n",
    "# Display the results\n",
    "print(\"All Student Records:\")\n",
    "for row in rows:\n",
    "    print(row)"
   ]
  },
  {
   "cell_type": "code",
   "execution_count": 12,
   "id": "90685bf7",
   "metadata": {},
   "outputs": [
    {
     "name": "stdout",
     "output_type": "stream",
     "text": [
      "\n",
      "Students with Marks greater than 90:\n",
      "('ASHUTOSH KUMAR SINGH', 'PWP', 95)\n",
      "('SHIVAM ATULKUMAR BHATT', 'PWP', 93)\n"
     ]
    }
   ],
   "source": [
    "cursor.execute('SELECT name, subject, Mark FROM student_record WHERE Mark > 90')\n",
    "high_marks = cursor.fetchall()\n",
    "\n",
    "print(\"\\nStudents with Marks greater than 90:\")\n",
    "for student in high_marks:\n",
    "    print(student)"
   ]
  },
  {
   "cell_type": "code",
   "execution_count": 14,
   "id": "84e43b38",
   "metadata": {},
   "outputs": [
    {
     "name": "stdout",
     "output_type": "stream",
     "text": [
      "\n",
      "Updated Mark for ASHUTOSH KUMAR SINGH: 98\n"
     ]
    }
   ],
   "source": [
    "cursor.execute('''UPDATE student_record SET Mark = 98 \n",
    "                  WHERE name = 'ASHUTOSH KUMAR SINGH' AND subject = 'PWP' ''')\n",
    "\n",
    "# Commit the changes\n",
    "conn.commit()\n",
    "# Verify the update\n",
    "cursor.execute('SELECT name, MArk FROM student_record WHERE name = \"ASHUTOSH KUMAR SINGH\"')\n",
    "updated_mark = cursor.fetchone()\n",
    "print(f\"\\nUpdated Mark for {updated_mark[0]}: {updated_mark[1]}\")"
   ]
  },
  {
   "cell_type": "code",
   "execution_count": 16,
   "id": "d14900aa",
   "metadata": {},
   "outputs": [
    {
     "name": "stdout",
     "output_type": "stream",
     "text": [
      "\n",
      "DEVENDRASINH DOLATSINH JADEJA has been successfully deleted.\n"
     ]
    }
   ],
   "source": [
    "cursor.execute('''DELETE FROM student_record WHERE name = 'DEVENDRASINH DOLATSINH JADEJA' ''')\n",
    "\n",
    "# Commit the changes\n",
    "conn.commit()\n",
    "\n",
    "# Verify the deletion\n",
    "cursor.execute('SELECT * FROM student_record WHERE name = \"DEVENDRASINH DOLATSINH JADEJA\"')\n",
    "deleted_name = cursor.fetchone()\n",
    "\n",
    "if deleted_name is None:\n",
    "    print(\"\\nDEVENDRASINH DOLATSINH JADEJA has been successfully deleted.\")"
   ]
  },
  {
   "cell_type": "code",
   "execution_count": 18,
   "id": "75d5086b",
   "metadata": {},
   "outputs": [
    {
     "name": "stdout",
     "output_type": "stream",
     "text": [
      "\n",
      "The average mark of students is: $91.50\n"
     ]
    }
   ],
   "source": [
    "cursor.execute('''SELECT AVG(Mark) FROM student_record''')\n",
    "avg_mark = cursor.fetchone()[0]\n",
    "\n",
    "print(f\"\\nThe average mark of students is: ${avg_mark:.2f}\")"
   ]
  },
  {
   "cell_type": "code",
   "execution_count": 20,
   "id": "86c27392",
   "metadata": {},
   "outputs": [],
   "source": [
    "conn.close()"
   ]
  },
  {
   "cell_type": "code",
   "execution_count": null,
   "id": "24f96150",
   "metadata": {},
   "outputs": [
    {
     "ename": "IntegrityError",
     "evalue": "UNIQUE constraint failed: student_subjects.enrollment, student_subjects.subject_id",
     "output_type": "error",
     "traceback": [
      "\u001b[31m---------------------------------------------------------------------------\u001b[39m",
      "\u001b[31mIntegrityError\u001b[39m                            Traceback (most recent call last)",
      "\u001b[36mCell\u001b[39m\u001b[36m \u001b[39m\u001b[32mIn[1]\u001b[39m\u001b[32m, line 39\u001b[39m\n\u001b[32m     26\u001b[39m conn.commit()\n\u001b[32m     29\u001b[39m enrollments = [\n\u001b[32m     30\u001b[39m     (\u001b[32m92301733016\u001b[39m, \u001b[32m1\u001b[39m),  \n\u001b[32m     31\u001b[39m     (\u001b[32m92301733016\u001b[39m, \u001b[32m2\u001b[39m),  \n\u001b[32m   (...)\u001b[39m\u001b[32m     37\u001b[39m     (\u001b[32m92301733058\u001b[39m, \u001b[32m3\u001b[39m)   \n\u001b[32m     38\u001b[39m ]\n\u001b[32m---> \u001b[39m\u001b[32m39\u001b[39m \u001b[43mcursor\u001b[49m\u001b[43m.\u001b[49m\u001b[43mexecutemany\u001b[49m\u001b[43m(\u001b[49m\u001b[33;43m'''\u001b[39;49m\u001b[33;43mINSERT INTO student_subjects (enrollment, subject_id)\u001b[39;49m\n\u001b[32m     40\u001b[39m \u001b[33;43m                        VALUES (?, ?)\u001b[39;49m\u001b[33;43m'''\u001b[39;49m\u001b[43m,\u001b[49m\u001b[43m \u001b[49m\u001b[43menrollments\u001b[49m\u001b[43m)\u001b[49m\n\u001b[32m     42\u001b[39m conn.commit()\n\u001b[32m     44\u001b[39m cursor.execute(\u001b[33m'''\u001b[39m\u001b[33mSELECT * FROM student_subjects\u001b[39m\u001b[33m'''\u001b[39m)\n",
      "\u001b[31mIntegrityError\u001b[39m: UNIQUE constraint failed: student_subjects.enrollment, student_subjects.subject_id"
     ]
    }
   ],
   "source": [
    "\n"
   ]
  }
 ],
 "metadata": {
  "kernelspec": {
   "display_name": "Python 3",
   "language": "python",
   "name": "python3"
  },
  "language_info": {
   "codemirror_mode": {
    "name": "ipython",
    "version": 3
   },
   "file_extension": ".py",
   "mimetype": "text/x-python",
   "name": "python",
   "nbconvert_exporter": "python",
   "pygments_lexer": "ipython3",
   "version": "3.12.10"
  }
 },
 "nbformat": 4,
 "nbformat_minor": 5
}
