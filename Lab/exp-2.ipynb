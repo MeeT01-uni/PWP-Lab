{
 "cells": [
  {
   "cell_type": "code",
   "execution_count": 26,
   "id": "566d5ced",
   "metadata": {},
   "outputs": [
    {
     "name": "stdout",
     "output_type": "stream",
     "text": [
      "25°C is equal to 77.0°F\n"
     ]
    }
   ],
   "source": [
    "celsius = 25  # example value\n",
    "fahrenheit = (celsius * 9/5) + 32\n",
    "print(f\"{celsius}°C is equal to {fahrenheit}°F\")"
   ]
  },
  {
   "cell_type": "code",
   "execution_count": 25,
   "id": "9b1dc025",
   "metadata": {},
   "outputs": [
    {
     "name": "stdout",
     "output_type": "stream",
     "text": [
      "The value of z is: 20\n"
     ]
    }
   ],
   "source": [
    "x = 2\n",
    "y = 4\n",
    "\n",
    "z = (x + y) * (x + y) - 2 * x * y\n",
    "print(\"The value of z is:\", z)"
   ]
  },
  {
   "cell_type": "code",
   "execution_count": 24,
   "id": "0ff45b7a",
   "metadata": {},
   "outputs": [
    {
     "name": "stdout",
     "output_type": "stream",
     "text": [
      "The value of z is: -5\n"
     ]
    }
   ],
   "source": [
    "z = (x + y) * (x - y)\n",
    "print(\"The value of z is:\", z)"
   ]
  },
  {
   "cell_type": "code",
   "execution_count": 23,
   "id": "96a7e66a",
   "metadata": {},
   "outputs": [
    {
     "name": "stdout",
     "output_type": "stream",
     "text": [
      "Area of Cube: 150\n",
      "Volume of Cube: 125\n"
     ]
    }
   ],
   "source": [
    "side = 5 \n",
    "cube_area = 6 * (side ** 2)\n",
    "cube_volume = side ** 3\n",
    "\n",
    "print(\"Area of Cube:\", cube_area)\n",
    "print(\"Volume of Cube:\", cube_volume)"
   ]
  },
  {
   "cell_type": "code",
   "execution_count": null,
   "id": "be589ccd",
   "metadata": {},
   "outputs": [
    {
     "name": "stdout",
     "output_type": "stream",
     "text": [
      "7 is odd\n",
      "----------------------------------------\n",
      "Enroll : 92510133027, Name : Meet\n",
      "----------------------------------------\n"
     ]
    }
   ],
   "source": [
    "number = 7  \n",
    "\n",
    "if number % 2 == 0:\n",
    "\tprint(number, \"is even\")\n",
    "else:\n",
    "\tprint(number, \"is odd\")\n",
    "\t\n",
    "print(\"----------------------------------------\")\n",
    "print(\"Enroll : 92510133027, Name : Meet\")\n",
    "print(\"----------------------------------------\")"
   ]
  },
  {
   "cell_type": "code",
   "execution_count": null,
   "id": "a2a1eda8",
   "metadata": {},
   "outputs": [
    {
     "name": "stdout",
     "output_type": "stream",
     "text": [
      "Area of Rectangle: 50\n",
      "Perimeter of Rectangle: 30\n"
     ]
    }
   ],
   "source": [
    "\n",
    "length = 10  \n",
    "width = 5   \n",
    "\n",
    "area = length * width\n",
    "perimeter = 2 * (length + width)\n",
    "\n",
    "print(\"Area of Rectangle:\", area)\n",
    "print(\"Perimeter of Rectangle:\", perimeter)\n",
    "print(\"----------------------------------------\")\n",
    "print(\"Enroll : 92510133027, Name : Meet\")\n",
    "print(\"----------------------------------------\")"
   ]
  },
  {
   "cell_type": "code",
   "execution_count": 20,
   "id": "a81902d8",
   "metadata": {},
   "outputs": [
    {
     "name": "stdout",
     "output_type": "stream",
     "text": [
      "512\n",
      "64\n",
      "----------------------------------------\n",
      "Enroll : 92510133027, Name : Meet\n",
      "----------------------------------------\n"
     ]
    }
   ],
   "source": [
    "x = 2\n",
    "y = 3\n",
    "z = 2\n",
    "print(x**y**z)\n",
    "print((x**y)**z)\n",
    "print(\"----------------------------------------\")\n",
    "print(\"Enroll : 92510133027, Name : Meet\")\n",
    "print(\"----------------------------------------\")"
   ]
  },
  {
   "cell_type": "code",
   "execution_count": 19,
   "id": "83e1b51d",
   "metadata": {},
   "outputs": [
    {
     "name": "stdout",
     "output_type": "stream",
     "text": [
      "2\n",
      "0\n",
      "----------------------------------------\n",
      "Enroll : 92510133027, Name : Meet\n",
      "----------------------------------------\n"
     ]
    }
   ],
   "source": [
    "x = 3\n",
    "y = 4\n",
    "z = 6\n",
    "print(x * y // z)\n",
    "print(x * (y // z))\n",
    "print(\"----------------------------------------\")\n",
    "print(\"Enroll : 92510133027, Name : Meet\")\n",
    "print(\"----------------------------------------\")"
   ]
  },
  {
   "cell_type": "code",
   "execution_count": 18,
   "id": "5ed88c70",
   "metadata": {},
   "outputs": [
    {
     "name": "stdout",
     "output_type": "stream",
     "text": [
      "6.0\n",
      "----------------------------------------\n",
      "Enroll : 92510133027, Name : Meet\n",
      "----------------------------------------\n"
     ]
    }
   ],
   "source": [
    "print (((5 + 4) / 3) * 2)\n",
    "print(\"----------------------------------------\")\n",
    "print(\"Enroll : 92510133027, Name : Meet\")\n",
    "print(\"----------------------------------------\")"
   ]
  },
  {
   "cell_type": "code",
   "execution_count": 15,
   "id": "ed294be0",
   "metadata": {},
   "outputs": [
    {
     "name": "stdout",
     "output_type": "stream",
     "text": [
      "-1\n",
      "----------------------------------------\n",
      "Enroll : 92510133027, Name : Meet\n",
      "----------------------------------------\n"
     ]
    }
   ],
   "source": [
    "e = -5\n",
    "f = -2\n",
    "res3 = e % f\n",
    "print (res3)\n",
    "print(\"----------------------------------------\")\n",
    "print(\"Enroll : 92510133027, Name : Meet\")\n",
    "print(\"----------------------------------------\")"
   ]
  },
  {
   "cell_type": "code",
   "execution_count": 14,
   "id": "dad06276",
   "metadata": {},
   "outputs": [
    {
     "name": "stdout",
     "output_type": "stream",
     "text": [
      "-1\n",
      "----------------------------------------\n",
      "Enroll : 92510133027, Name : Meet\n",
      "----------------------------------------\n"
     ]
    }
   ],
   "source": [
    "m = 5\n",
    "n = -2\n",
    "res2 = m % n\n",
    "print (res2)\n",
    "print(\"----------------------------------------\")\n",
    "print(\"Enroll : 92510133027, Name : Meet\")\n",
    "print(\"----------------------------------------\")"
   ]
  },
  {
   "cell_type": "code",
   "execution_count": 13,
   "id": "ec209a3b",
   "metadata": {},
   "outputs": [
    {
     "name": "stdout",
     "output_type": "stream",
     "text": [
      "0\n",
      "----------------------------------------\n",
      "Enroll : 92510133027, Name : Meet\n",
      "----------------------------------------\n"
     ]
    }
   ],
   "source": [
    "a = -10\n",
    "b = 2\n",
    "res1 = a % b\n",
    "print (res1)\n",
    "print(\"----------------------------------------\")\n",
    "print(\"Enroll : 92510133027, Name : Meet\")\n",
    "print(\"----------------------------------------\")"
   ]
  },
  {
   "cell_type": "code",
   "execution_count": 12,
   "id": "fb8ec03b",
   "metadata": {},
   "outputs": [
    {
     "name": "stdout",
     "output_type": "stream",
     "text": [
      "0\n",
      "----------------------------------------\n",
      "Enroll : 92510133027, Name : Meet\n",
      "----------------------------------------\n"
     ]
    }
   ],
   "source": [
    "x = 10\n",
    "y = 1\n",
    "mod = x % y\n",
    "print (mod)\n",
    "print(\"----------------------------------------\")\n",
    "print(\"Enroll : 92510133027, Name : Meet\")\n",
    "print(\"----------------------------------------\")"
   ]
  },
  {
   "cell_type": "code",
   "execution_count": 10,
   "id": "4f038dca",
   "metadata": {},
   "outputs": [
    {
     "name": "stdout",
     "output_type": "stream",
     "text": [
      "----------------------------------------\n",
      "Enroll : 92510133027, Name : Meet\n",
      "----------------------------------------\n",
      "The floor division of 10 and 2 is: 5\n"
     ]
    }
   ],
   "source": [
    "a, b = 10, 2\n",
    "floordiv = a // b\n",
    "\n",
    "print(\"----------------------------------------\")\n",
    "print(\"Enroll : 92510133027, Name : Meet\")\n",
    "print(\"----------------------------------------\")\n",
    "\n",
    "print(\"The floor division of\", a, \"and\", b, \"is:\", floordiv)"
   ]
  },
  {
   "cell_type": "code",
   "execution_count": 9,
   "id": "446be5c0",
   "metadata": {},
   "outputs": [
    {
     "name": "stdout",
     "output_type": "stream",
     "text": [
      "----------------------------------------\n",
      "Enroll : 92510133027, Name : Meet\n",
      "----------------------------------------\n",
      "The exponentiation of 10 to the power of 2 is: 100\n"
     ]
    }
   ],
   "source": [
    "a, b = 10, 2\n",
    "exp = a ** b\n",
    "\n",
    "print(\"----------------------------------------\")\n",
    "print(\"Enroll : 92510133027, Name : Meet\")\n",
    "print(\"----------------------------------------\")\n",
    "\n",
    "print(\"The exponentiation of\", a, \"to the power of\", b, \"is:\", exp)"
   ]
  },
  {
   "cell_type": "code",
   "execution_count": null,
   "id": "52618f51",
   "metadata": {},
   "outputs": [
    {
     "name": "stdout",
     "output_type": "stream",
     "text": [
      "----------------------------------------\n",
      "Enroll : 92510133027, Name : Meet\n",
      "----------------------------------------\n",
      "The modulo of 10 and 2 is: 0\n"
     ]
    }
   ],
   "source": [
    "a, b = 10, 2\n",
    "mod= a%b\n",
    "\n",
    "print(\"----------------------------------------\")\n",
    "print(\"Enroll : 92510133027, Name : Meet\")\n",
    "print(\"----------------------------------------\")\n",
    "\n",
    "print(\"The modulo of\",a,\"and\",b,\"is:\",mod)"
   ]
  },
  {
   "cell_type": "code",
   "execution_count": null,
   "id": "16494cde",
   "metadata": {},
   "outputs": [],
   "source": []
  },
  {
   "cell_type": "code",
   "execution_count": 6,
   "id": "f95cf166",
   "metadata": {},
   "outputs": [
    {
     "name": "stdout",
     "output_type": "stream",
     "text": [
      "----------------------------------------\n",
      "Enroll : 92510133027, Name : Meet\n",
      "----------------------------------------\n",
      "The division of 10 and 2 is: 5.0\n"
     ]
    }
   ],
   "source": [
    "a, b = 10, 2\n",
    "div= a/b\n",
    "\n",
    "print(\"----------------------------------------\")\n",
    "print(\"Enroll : 92510133027, Name : Meet\")\n",
    "print(\"----------------------------------------\")\n",
    "\n",
    "print(\"The division of\",a,\"and\",b,\"is:\",div)"
   ]
  },
  {
   "cell_type": "code",
   "execution_count": 5,
   "id": "2a797faa",
   "metadata": {},
   "outputs": [
    {
     "name": "stdout",
     "output_type": "stream",
     "text": [
      "----------------------------------------\n",
      "Enroll : 92510133027, Name : Meet\n",
      "----------------------------------------\n",
      "The multiplication of 10 and 10 is: 100\n"
     ]
    }
   ],
   "source": [
    "a, b = 10, 10\n",
    "muti= a*b\n",
    "\n",
    "print(\"----------------------------------------\")\n",
    "print(\"Enroll : 92510133027, Name : Meet\")\n",
    "print(\"----------------------------------------\")\n",
    "\n",
    "print(\"The multiplication of\",a,\"and\",b,\"is:\",muti)"
   ]
  },
  {
   "cell_type": "code",
   "execution_count": 4,
   "id": "f3821aac",
   "metadata": {},
   "outputs": [
    {
     "name": "stdout",
     "output_type": "stream",
     "text": [
      "----------------------------------------\n",
      "Enroll : 92510133027, Name : Meet\n",
      "----------------------------------------\n",
      "The subtraction of 10 and 2 is: 8\n"
     ]
    }
   ],
   "source": [
    "a, b = 10, 2\n",
    "sub= a-b\n",
    "\n",
    "print(\"----------------------------------------\")\n",
    "print(\"Enroll : 92510133027, Name : Meet\")\n",
    "print(\"----------------------------------------\")\n",
    "\n",
    "print(\"The subtraction of\",a,\"and\",b,\"is:\",sum)"
   ]
  },
  {
   "cell_type": "code",
   "execution_count": 1,
   "id": "2cb37c1b",
   "metadata": {},
   "outputs": [
    {
     "name": "stdout",
     "output_type": "stream",
     "text": [
      "----------------------------------------\n",
      "Enroll : 92510133027, Name : Meet\n",
      "----------------------------------------\n",
      "The sum of 10 and 30 is: 40\n"
     ]
    }
   ],
   "source": [
    "a, b = 10, 30\n",
    "sum= a+b\n",
    "\n",
    "print(\"----------------------------------------\")\n",
    "print(\"Enroll : 92510133027, Name : Meet\")\n",
    "print(\"----------------------------------------\")\n",
    "\n",
    "print(\"The sum of\",a,\"and\",b,\"is:\",sum)"
   ]
  }
 ],
 "metadata": {
  "kernelspec": {
   "display_name": "Python 3",
   "language": "python",
   "name": "python3"
  },
  "language_info": {
   "codemirror_mode": {
    "name": "ipython",
    "version": 3
   },
   "file_extension": ".py",
   "mimetype": "text/x-python",
   "name": "python",
   "nbconvert_exporter": "python",
   "pygments_lexer": "ipython3",
   "version": "3.12.10"
  }
 },
 "nbformat": 4,
 "nbformat_minor": 5
}
